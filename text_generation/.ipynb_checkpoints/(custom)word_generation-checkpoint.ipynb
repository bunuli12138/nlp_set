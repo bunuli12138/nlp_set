{
 "cells": [
  {
   "cell_type": "markdown",
   "metadata": {},
   "source": [
    "## data"
   ]
  },
  {
   "cell_type": "code",
   "execution_count": 31,
   "metadata": {},
   "outputs": [
    {
     "name": "stdout",
     "output_type": "stream",
     "text": [
      "[0, 1, 2, 3, 4, 5, 6, 7, 8, 9]\n",
      "[0, 3, 4, 5, 6, 7, 8, 9]\n"
     ]
    }
   ],
   "source": [
    "l = [i for i in range(10)]\n",
    "print(l)\n",
    "sl = l[0:1]\n",
    "sl.extend(l[3:])\n",
    "print(sl)"
   ]
  },
  {
   "cell_type": "code",
   "execution_count": 32,
   "metadata": {},
   "outputs": [
    {
     "data": {
      "text/plain": [
       "(81133,\n",
       " ['《斗破苍穹》天蚕土豆',\n",
       "  '第一章',\n",
       "  '“斗之力，三段！”',\n",
       "  '望着测验魔石碑上面闪亮得甚至有些刺眼的五个大字，少年面无表情，唇角有着一抹自嘲，紧握的手掌，因为大力，而导致略微尖锐的指甲深深的刺进了掌心之中，带来一阵阵钻心的疼痛…',\n",
       "  '“萧炎，斗之力，三段！级别：低级！”测验魔石碑之旁，一位中年男子，看了一眼碑上所显示出来的信息，语气漠然的将之公布了出来…',\n",
       "  '中年男子话刚刚脱口，便是不出意外的在人头汹涌的广场上带起了一阵嘲讽的骚动。',\n",
       "  '“三段？嘿嘿，果然不出我所料，这个“天才”这一年又是在原地踏步！”',\n",
       "  '“哎，这废物真是把家族的脸都给丢光了。”',\n",
       "  '“要不是族长是他的父亲，这种废物，早就被驱赶出家族，任其自生自灭了，哪还有机会待在家族中白吃白喝。”',\n",
       "  '“唉，昔年那名闻乌坦城的天才少年，如今怎么落魄成这般模样了啊？”'])"
      ]
     },
     "execution_count": 32,
     "metadata": {},
     "output_type": "execute_result"
    }
   ],
   "source": [
    "path = r'./FBS.txt'\n",
    "\n",
    "# original text data\n",
    "with open(path, 'rb') as f:\n",
    "    text = f.read()\n",
    "text = text.decode('utf-8')\n",
    "\n",
    "# sentence split\n",
    "text = text.split('\\r\\n')\n",
    "\n",
    "# sentences normalized\n",
    "text = [s.split()[0] for s in text if len(s)>0]\n",
    "\n",
    "# delete senteces[1:4]\n",
    "text_data = text[0:1]\n",
    "text_data.extend(text[4:])\n",
    "\n",
    "\n",
    "len(text_data), text_data[:10]"
   ]
  },
  {
   "cell_type": "code",
   "execution_count": 33,
   "metadata": {},
   "outputs": [
    {
     "data": {
      "text/plain": [
       "(1893, ['!', '\"', '#', '$', '%', '&', \"'\", '(', ')', '*'])"
      ]
     },
     "execution_count": 33,
     "metadata": {},
     "output_type": "execute_result"
    }
   ],
   "source": [
    "path = './stopwords1893.txt'\n",
    "\n",
    "with open(path, 'rb') as f:\n",
    "    stopwords = f.read()\n",
    "stopwords = stopwords.decode('utf-8')\n",
    "stopwords_data = stopwords.split('\\r\\n')\n",
    "\n",
    "len(stopwords_data), stopwords_data[:10]"
   ]
  },
  {
   "cell_type": "markdown",
   "metadata": {},
   "source": [
    "### stopwords"
   ]
  },
  {
   "cell_type": "code",
   "execution_count": 34,
   "metadata": {},
   "outputs": [],
   "source": [
    "import re"
   ]
  },
  {
   "cell_type": "code",
   "execution_count": 38,
   "metadata": {},
   "outputs": [
    {
     "data": {
      "text/plain": [
       "(81133,\n",
       " ['斗破苍穹 天蚕土豆',\n",
       "  '第一章',\n",
       "  '斗之力 三段',\n",
       "  '望着测验魔石碑上面闪亮得甚至有些刺眼的五个大字 少年面无表情 唇角有着一抹自嘲 紧握的手掌 因为大力 而导致略微尖锐的指甲深深的刺进了掌心之中 带来一阵阵钻心的疼痛',\n",
       "  '萧炎 斗之力 三段 级别 低级  测验魔石碑之旁 一位中年男子 看了一眼碑上所显示出来的信息 语气漠然的将之公布了出来',\n",
       "  '中年男子话刚刚脱口 便是不出意外的在人头汹涌的广场上带起了一阵嘲讽的骚动',\n",
       "  '三段 嘿嘿 果然不出我所料 这个 天才 这一年又是在原地踏步',\n",
       "  '哎 这废物真是把家族的脸都给丢光了',\n",
       "  '要不是族长是他的父亲 这种废物 早就被驱赶出家族 任其自生自灭了 哪还有机会待在家族中白吃白喝',\n",
       "  '唉 昔年那名闻乌坦城的天才少年 如今怎么落魄成这般模样了啊'])"
      ]
     },
     "execution_count": 38,
     "metadata": {},
     "output_type": "execute_result"
    }
   ],
   "source": [
    "cleaned_text = []\n",
    "\n",
    "# chinese byte range\n",
    "cn_re = re.compile(u'[^\\u4E00-\\u9FA5]')            \n",
    "\n",
    "# ONLY remain chinese char\n",
    "for sen in text_data:\n",
    "    cleaned_sen = cn_re.sub(r' ', sen)             \n",
    "    cleaned_text.append(cleaned_sen.strip())\n",
    "    \n",
    "len(cleaned_text), cleaned_text[:10]"
   ]
  },
  {
   "cell_type": "markdown",
   "metadata": {},
   "source": [
    "### word split"
   ]
  },
  {
   "cell_type": "code",
   "execution_count": 4,
   "metadata": {},
   "outputs": [],
   "source": [
    "import jieba"
   ]
  },
  {
   "cell_type": "code",
   "execution_count": 44,
   "metadata": {
    "scrolled": true
   },
   "outputs": [
    {
     "name": "stdout",
     "output_type": "stream",
     "text": [
      "Wall time: 42.9 s\n"
     ]
    },
    {
     "data": {
      "text/plain": [
       "(81133,\n",
       " [['斗破', '苍穹', '天蚕', '土豆'],\n",
       "  ['第一章'],\n",
       "  ['斗之力', '三段'],\n",
       "  ['望',\n",
       "   '着',\n",
       "   '测验',\n",
       "   '魔',\n",
       "   '石碑',\n",
       "   '上面',\n",
       "   '闪亮',\n",
       "   '得',\n",
       "   '甚至',\n",
       "   '有些',\n",
       "   '刺眼',\n",
       "   '的',\n",
       "   '五个',\n",
       "   '大字',\n",
       "   '少年',\n",
       "   '面',\n",
       "   '无表情',\n",
       "   '唇角',\n",
       "   '有着',\n",
       "   '一抹',\n",
       "   '自嘲',\n",
       "   '紧握',\n",
       "   '的',\n",
       "   '手掌',\n",
       "   '因为',\n",
       "   '大力',\n",
       "   '而',\n",
       "   '导致',\n",
       "   '略微',\n",
       "   '尖锐',\n",
       "   '的',\n",
       "   '指甲',\n",
       "   '深深',\n",
       "   '的',\n",
       "   '刺进',\n",
       "   '了',\n",
       "   '掌心',\n",
       "   '之中',\n",
       "   '带来',\n",
       "   '一阵阵',\n",
       "   '钻心',\n",
       "   '的',\n",
       "   '疼痛'],\n",
       "  ['萧炎',\n",
       "   '斗之力',\n",
       "   '三段',\n",
       "   '级别',\n",
       "   '低级',\n",
       "   '测验',\n",
       "   '魔',\n",
       "   '石碑',\n",
       "   '之',\n",
       "   '旁',\n",
       "   '一位',\n",
       "   '中年男子',\n",
       "   '看',\n",
       "   '了',\n",
       "   '一眼',\n",
       "   '碑',\n",
       "   '上',\n",
       "   '所',\n",
       "   '显示',\n",
       "   '出来',\n",
       "   '的',\n",
       "   '信息',\n",
       "   '语气',\n",
       "   '漠然',\n",
       "   '的',\n",
       "   '将',\n",
       "   '之',\n",
       "   '公布',\n",
       "   '了',\n",
       "   '出来']])"
      ]
     },
     "execution_count": 44,
     "metadata": {},
     "output_type": "execute_result"
    }
   ],
   "source": [
    "%%time\n",
    "words_data = []\n",
    "for sen in cleaned_text:\n",
    "    l = list(jieba.cut(sen))\n",
    "    words_data.append([w.strip() for w in l if len(w.strip())>0])\n",
    "    \n",
    "\n",
    "len(words_data), words_data[:5]"
   ]
  },
  {
   "cell_type": "code",
   "execution_count": 50,
   "metadata": {},
   "outputs": [
    {
     "data": {
      "text/plain": [
       "['斗破', '苍穹', '天蚕', '土豆', '第一章', '斗之力', '三段', '望', '着', '测验']"
      ]
     },
     "execution_count": 50,
     "metadata": {},
     "output_type": "execute_result"
    }
   ],
   "source": [
    "words = []\n",
    "[words.extend(l) for l in words_data]\n",
    "\n",
    "words[:10]"
   ]
  },
  {
   "cell_type": "code",
   "execution_count": 52,
   "metadata": {},
   "outputs": [
    {
     "data": {
      "text/plain": [
       "(61678, 2614383)"
      ]
     },
     "execution_count": 52,
     "metadata": {},
     "output_type": "execute_result"
    }
   ],
   "source": [
    "len(set(words)), len(words)"
   ]
  },
  {
   "cell_type": "markdown",
   "metadata": {},
   "source": [
    "### tokenize"
   ]
  },
  {
   "cell_type": "code",
   "execution_count": 53,
   "metadata": {
    "scrolled": true
   },
   "outputs": [
    {
     "name": "stderr",
     "output_type": "stream",
     "text": [
      "Using TensorFlow backend.\n",
      "D:\\setup_room\\python\\lib\\site-packages\\tensorflow\\python\\framework\\dtypes.py:516: FutureWarning: Passing (type, 1) or '1type' as a synonym of type is deprecated; in a future version of numpy, it will be understood as (type, (1,)) / '(1,)type'.\n",
      "  _np_qint8 = np.dtype([(\"qint8\", np.int8, 1)])\n",
      "D:\\setup_room\\python\\lib\\site-packages\\tensorflow\\python\\framework\\dtypes.py:517: FutureWarning: Passing (type, 1) or '1type' as a synonym of type is deprecated; in a future version of numpy, it will be understood as (type, (1,)) / '(1,)type'.\n",
      "  _np_quint8 = np.dtype([(\"quint8\", np.uint8, 1)])\n",
      "D:\\setup_room\\python\\lib\\site-packages\\tensorflow\\python\\framework\\dtypes.py:518: FutureWarning: Passing (type, 1) or '1type' as a synonym of type is deprecated; in a future version of numpy, it will be understood as (type, (1,)) / '(1,)type'.\n",
      "  _np_qint16 = np.dtype([(\"qint16\", np.int16, 1)])\n",
      "D:\\setup_room\\python\\lib\\site-packages\\tensorflow\\python\\framework\\dtypes.py:519: FutureWarning: Passing (type, 1) or '1type' as a synonym of type is deprecated; in a future version of numpy, it will be understood as (type, (1,)) / '(1,)type'.\n",
      "  _np_quint16 = np.dtype([(\"quint16\", np.uint16, 1)])\n",
      "D:\\setup_room\\python\\lib\\site-packages\\tensorflow\\python\\framework\\dtypes.py:520: FutureWarning: Passing (type, 1) or '1type' as a synonym of type is deprecated; in a future version of numpy, it will be understood as (type, (1,)) / '(1,)type'.\n",
      "  _np_qint32 = np.dtype([(\"qint32\", np.int32, 1)])\n",
      "D:\\setup_room\\python\\lib\\site-packages\\tensorflow\\python\\framework\\dtypes.py:525: FutureWarning: Passing (type, 1) or '1type' as a synonym of type is deprecated; in a future version of numpy, it will be understood as (type, (1,)) / '(1,)type'.\n",
      "  np_resource = np.dtype([(\"resource\", np.ubyte, 1)])\n",
      "D:\\setup_room\\python\\lib\\site-packages\\tensorboard\\compat\\tensorflow_stub\\dtypes.py:541: FutureWarning: Passing (type, 1) or '1type' as a synonym of type is deprecated; in a future version of numpy, it will be understood as (type, (1,)) / '(1,)type'.\n",
      "  _np_qint8 = np.dtype([(\"qint8\", np.int8, 1)])\n",
      "D:\\setup_room\\python\\lib\\site-packages\\tensorboard\\compat\\tensorflow_stub\\dtypes.py:542: FutureWarning: Passing (type, 1) or '1type' as a synonym of type is deprecated; in a future version of numpy, it will be understood as (type, (1,)) / '(1,)type'.\n",
      "  _np_quint8 = np.dtype([(\"quint8\", np.uint8, 1)])\n",
      "D:\\setup_room\\python\\lib\\site-packages\\tensorboard\\compat\\tensorflow_stub\\dtypes.py:543: FutureWarning: Passing (type, 1) or '1type' as a synonym of type is deprecated; in a future version of numpy, it will be understood as (type, (1,)) / '(1,)type'.\n",
      "  _np_qint16 = np.dtype([(\"qint16\", np.int16, 1)])\n",
      "D:\\setup_room\\python\\lib\\site-packages\\tensorboard\\compat\\tensorflow_stub\\dtypes.py:544: FutureWarning: Passing (type, 1) or '1type' as a synonym of type is deprecated; in a future version of numpy, it will be understood as (type, (1,)) / '(1,)type'.\n",
      "  _np_quint16 = np.dtype([(\"quint16\", np.uint16, 1)])\n",
      "D:\\setup_room\\python\\lib\\site-packages\\tensorboard\\compat\\tensorflow_stub\\dtypes.py:545: FutureWarning: Passing (type, 1) or '1type' as a synonym of type is deprecated; in a future version of numpy, it will be understood as (type, (1,)) / '(1,)type'.\n",
      "  _np_qint32 = np.dtype([(\"qint32\", np.int32, 1)])\n",
      "D:\\setup_room\\python\\lib\\site-packages\\tensorboard\\compat\\tensorflow_stub\\dtypes.py:550: FutureWarning: Passing (type, 1) or '1type' as a synonym of type is deprecated; in a future version of numpy, it will be understood as (type, (1,)) / '(1,)type'.\n",
      "  np_resource = np.dtype([(\"resource\", np.ubyte, 1)])\n"
     ]
    }
   ],
   "source": [
    "from keras.preprocessing.text import Tokenizer                              # char2id                        \n",
    "from keras.preprocessing.sequence import pad_sequences                      # pad seqences"
   ]
  },
  {
   "cell_type": "code",
   "execution_count": 66,
   "metadata": {},
   "outputs": [],
   "source": [
    "def tokenize(x):\n",
    "    tn = Tokenizer()\n",
    "    \n",
    "    tn.fit_on_texts(x)\n",
    "    \n",
    "    return tn.texts_to_sequences(x), tn"
   ]
  },
  {
   "cell_type": "code",
   "execution_count": 67,
   "metadata": {},
   "outputs": [
    {
     "name": "stdout",
     "output_type": "stream",
     "text": [
      "['的', '了', '是', '萧炎', '在', '着', '也', '那', '他', '这']\n",
      "[[1284], [2845], [10614], [935], [13792], [14817], [7231], [29], [6], [2417]]\n",
      "Wall time: 1min 9s\n"
     ]
    }
   ],
   "source": [
    "%%time\n",
    "text_sentences = words\n",
    "text_tokenized, text_tokenizer = tokenize(text_sentences)\n",
    "print(list(text_tokenizer.word_index)[:10])\n",
    "print(text_tokenized[:10])\n",
    "# for sample_i, (sent, token_sent) in enumerate(zip(text_sentences, text_tokenized)):\n",
    "#     pass"
   ]
  },
  {
   "cell_type": "code",
   "execution_count": null,
   "metadata": {},
   "outputs": [],
   "source": []
  },
  {
   "cell_type": "code",
   "execution_count": null,
   "metadata": {},
   "outputs": [],
   "source": []
  },
  {
   "cell_type": "code",
   "execution_count": null,
   "metadata": {},
   "outputs": [],
   "source": []
  },
  {
   "cell_type": "code",
   "execution_count": null,
   "metadata": {},
   "outputs": [],
   "source": []
  },
  {
   "cell_type": "code",
   "execution_count": null,
   "metadata": {},
   "outputs": [],
   "source": []
  },
  {
   "cell_type": "code",
   "execution_count": null,
   "metadata": {},
   "outputs": [],
   "source": []
  },
  {
   "cell_type": "code",
   "execution_count": null,
   "metadata": {},
   "outputs": [],
   "source": []
  },
  {
   "cell_type": "code",
   "execution_count": null,
   "metadata": {},
   "outputs": [],
   "source": []
  },
  {
   "cell_type": "code",
   "execution_count": null,
   "metadata": {},
   "outputs": [],
   "source": []
  },
  {
   "cell_type": "code",
   "execution_count": null,
   "metadata": {},
   "outputs": [],
   "source": []
  },
  {
   "cell_type": "code",
   "execution_count": null,
   "metadata": {},
   "outputs": [],
   "source": []
  },
  {
   "cell_type": "code",
   "execution_count": null,
   "metadata": {},
   "outputs": [],
   "source": []
  },
  {
   "cell_type": "code",
   "execution_count": null,
   "metadata": {},
   "outputs": [],
   "source": []
  },
  {
   "cell_type": "code",
   "execution_count": null,
   "metadata": {},
   "outputs": [],
   "source": []
  },
  {
   "cell_type": "code",
   "execution_count": null,
   "metadata": {},
   "outputs": [],
   "source": []
  },
  {
   "cell_type": "code",
   "execution_count": null,
   "metadata": {},
   "outputs": [],
   "source": []
  },
  {
   "cell_type": "code",
   "execution_count": null,
   "metadata": {},
   "outputs": [],
   "source": []
  },
  {
   "cell_type": "code",
   "execution_count": null,
   "metadata": {},
   "outputs": [],
   "source": []
  }
 ],
 "metadata": {
  "kernelspec": {
   "display_name": "Python 3",
   "language": "python",
   "name": "python3"
  },
  "language_info": {
   "codemirror_mode": {
    "name": "ipython",
    "version": 3
   },
   "file_extension": ".py",
   "mimetype": "text/x-python",
   "name": "python",
   "nbconvert_exporter": "python",
   "pygments_lexer": "ipython3",
   "version": "3.6.8"
  },
  "toc": {
   "base_numbering": 1,
   "nav_menu": {},
   "number_sections": true,
   "sideBar": true,
   "skip_h1_title": false,
   "title_cell": "Table of Contents",
   "title_sidebar": "Contents",
   "toc_cell": false,
   "toc_position": {},
   "toc_section_display": true,
   "toc_window_display": true
  }
 },
 "nbformat": 4,
 "nbformat_minor": 2
}
