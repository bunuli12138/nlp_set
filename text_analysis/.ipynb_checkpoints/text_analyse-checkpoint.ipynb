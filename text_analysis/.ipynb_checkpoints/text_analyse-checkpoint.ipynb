{
 "cells": [
  {
   "cell_type": "markdown",
   "metadata": {},
   "source": [
    "\n",
    "## B站正剧：那年那兔那些事儿\n",
    "* 1.结巴分词\n",
    "    * 1.1 结巴分词原理\n",
    "    * 1.2 结巴分词使用\n",
    "* 2.文字处理\n",
    "    * 2.1 去stopword\n",
    "    * 2.2 整理词频\n",
    "    * 2.3 关键词计算: TF-IDF，textrank\n",
    "* 3.词云制作\n",
    "* 4.沿时间动态变化: 高频词\n",
    "    * 不同剧集的高频词\n",
    "    * 不同剧集的弹幕分布\n",
    "    * 24小时弹幕分布\n",
    "    * 年内弹幕分布\n",
    "    * 重要节日的表现\n",
    "\n",
    "* 5.观众信息\n",
    "    * 性别\n"
   ]
  },
  {
   "cell_type": "markdown",
   "metadata": {
    "collapsed": true
   },
   "source": [
    "***"
   ]
  },
  {
   "cell_type": "code",
   "execution_count": 1,
   "metadata": {},
   "outputs": [],
   "source": [
    "#import requests\n",
    "#from bs4 import BeautifulSoup as bs\n",
    "import re\n",
    "import time\n",
    "#import lxml\n",
    "import matplotlib.pyplot as plt\n",
    "from PIL import Image as pilImage\n",
    "from IPython.display import Image\n",
    "import numpy as np\n",
    "import seaborn as sns\n",
    "%matplotlib inline"
   ]
  },
  {
   "cell_type": "code",
   "execution_count": 2,
   "metadata": {},
   "outputs": [],
   "source": [
    "import jieba #　结巴分词\n",
    "import pandas as pd"
   ]
  },
  {
   "cell_type": "markdown",
   "metadata": {},
   "source": [
    "## 结巴分词"
   ]
  },
  {
   "cell_type": "markdown",
   "metadata": {},
   "source": [
    "** 结合基于规则和基于统计 **\n",
    "1. 基于是__前缀词典__实现高效的词图扫描，生成句子中汉字所有可能成词情况所构成的有向无环图 (DAG)\n",
    "2. 采用__动态规划__查找最大概率路径, 找出基于词频的__最大切分组合__"
   ]
  },
  {
   "cell_type": "markdown",
   "metadata": {},
   "source": [
    "### 举例\n",
    "Example: 跳进未名湖"
   ]
  },
  {
   "cell_type": "markdown",
   "metadata": {},
   "source": [
    "#### ** 1.根据离线统计词典查找到的词频与词性 **\n",
    "\n",
    "|词语|频率|词性|\n",
    "| ------------- |:-------------:| -----:|\n",
    "|跳| 8462 |v\n",
    "|进| 25668 |v\n",
    "|跳进| 206 |v\n",
    "|未名湖| 27 |ns\n",
    "|未名| 6 |v\n",
    "|未| 16803 |d\n",
    "|名| 26255 |q\n",
    "|湖| 12466 |ns"
   ]
  },
  {
   "cell_type": "markdown",
   "metadata": {},
   "source": [
    "#### ** 2. 构建有向无环图 **\n",
    "\n",
    " 0: [0,1]\n",
    " \n",
    " 1: [1]\n",
    " \n",
    " 2: [2,3,4]\n",
    " \n",
    " 3: [3]\n",
    " \n",
    " 4: [4]"
   ]
  },
  {
   "cell_type": "code",
   "execution_count": 3,
   "metadata": {},
   "outputs": [
    {
     "data": {
      "image/png": "[encoded data removed]",
      "text/plain": [
       "<IPython.core.display.Image object>"
      ]
     },
     "execution_count": 3,
     "metadata": {},
     "output_type": "execute_result"
    }
   ],
   "source": [
    "Image(filename='img/weiminghu.png')"
   ]
  },
  {
   "cell_type": "markdown",
   "metadata": {},
   "source": [
    "#### ** 3. 分词：最大概率路径计算 **\n",
    "\n",
    "1. 0 -> 1 -> 2 -> 3 -> 4     \n",
    "   ** 跳/进/未/名/湖 **\n",
    "\n",
    "2. 0,1 -> 2 -> 3 -> 4    \n",
    "   **跳进/未/名/湖**\n",
    "   \n",
    "3. 0,1 -> 2,3 -> 4       \n",
    "   **跳进/未名/湖**\n",
    "   \n",
    "4. 0,1 -> 2,3,4         \n",
    "   **跳进/未名湖**\n"
   ]
  },
  {
   "cell_type": "code",
   "execution_count": 4,
   "metadata": {},
   "outputs": [],
   "source": [
    "import jieba"
   ]
  },
  {
   "cell_type": "code",
   "execution_count": 5,
   "metadata": {},
   "outputs": [
    {
     "name": "stderr",
     "output_type": "stream",
     "text": [
      "Building prefix dict from the default dictionary ...\n",
      "Loading model from cache C:\\Users\\ADMINI~1\\AppData\\Local\\Temp\\jieba.cache\n",
      "Loading model cost 1.046 seconds.\n",
      "Prefix dict has been built succesfully.\n"
     ]
    },
    {
     "name": "stdout",
     "output_type": "stream",
     "text": [
      "我/ 在/ 北京/ 读/ 大学/ ，/ 颐和园/ 路/ 的/ 比/ 五道口/ 的/ 要/ 好\n"
     ]
    }
   ],
   "source": [
    "# 提示为模型加载描述\n",
    "fenci = jieba.cut(\"我在北京读大学，颐和园路的比五道口的要好\",cut_all=False)\n",
    "print(\"/ \".join(fenci))"
   ]
  },
  {
   "cell_type": "markdown",
   "metadata": {},
   "source": [
    "#### ** 4.自定义词组\n",
    "* jieba.suggest_freq(\"我读的\", tune=True)"
   ]
  },
  {
   "cell_type": "code",
   "execution_count": 6,
   "metadata": {},
   "outputs": [
    {
     "name": "stdout",
     "output_type": "stream",
     "text": [
      "Help on method suggest_freq in module jieba:\n",
      "\n",
      "suggest_freq(segment, tune=False) method of jieba.Tokenizer instance\n",
      "    Suggest word frequency to force the characters in a word to be\n",
      "    joined or splitted.\n",
      "    \n",
      "    Parameter:\n",
      "        - segment : The segments that the word is expected to be cut into,\n",
      "                    If the word should be treated as a whole, use a str.\n",
      "        - tune : If True, tune the word frequency.\n",
      "    \n",
      "    Note that HMM may affect the final result. If the result doesn't change,\n",
      "    set HMM=False.\n",
      "\n"
     ]
    }
   ],
   "source": [
    "help(jieba.suggest_freq)"
   ]
  },
  {
   "cell_type": "code",
   "execution_count": 7,
   "metadata": {},
   "outputs": [
    {
     "data": {
      "text/plain": [
       "1"
      ]
     },
     "execution_count": 7,
     "metadata": {},
     "output_type": "execute_result"
    }
   ],
   "source": [
    "jieba.suggest_freq(\"颐和园路\",tune=True)"
   ]
  },
  {
   "cell_type": "code",
   "execution_count": 8,
   "metadata": {},
   "outputs": [
    {
     "name": "stdout",
     "output_type": "stream",
     "text": [
      "我/ 在/ 北京/ 读/ 大学/ ，/ 颐和园路/ 的/ 比/ 五道口/ 的/ 要/ 好\n"
     ]
    }
   ],
   "source": [
    "fenci = jieba.cut(\"我在北京读大学，颐和园路的比五道口的要好\",cut_all=False)\n",
    "print(\"/ \".join(fenci))"
   ]
  },
  {
   "cell_type": "markdown",
   "metadata": {
    "collapsed": true
   },
   "source": [
    "***"
   ]
  },
  {
   "cell_type": "code",
   "execution_count": 9,
   "metadata": {},
   "outputs": [
    {
     "name": "stdout",
     "output_type": "stream",
     "text": [
      "我/ 爱/ 北京/ 天安门/ ，/ 五环/ 比六环/ 多/ 一环/ ，/ 学好/ python/ 就/ 不是/ 低端/ 劳动力/ 了/ ，/ 呜呜\n"
     ]
    }
   ],
   "source": [
    "fenci = jieba.cut(\"我爱北京天安门，五环比六环多一环，学好python就不是低端劳动力了，呜呜\",cut_all=False)\n",
    "print(\"/ \".join(fenci))"
   ]
  },
  {
   "cell_type": "markdown",
   "metadata": {},
   "source": [
    "* jieba.suggest_freq((\"比\",\"六环\"), tune=True)"
   ]
  },
  {
   "cell_type": "code",
   "execution_count": 10,
   "metadata": {},
   "outputs": [
    {
     "data": {
      "text/plain": [
       "0"
      ]
     },
     "execution_count": 10,
     "metadata": {},
     "output_type": "execute_result"
    }
   ],
   "source": [
    "jieba.suggest_freq((\"比\",\"六环\"),tune=True)"
   ]
  },
  {
   "cell_type": "code",
   "execution_count": 11,
   "metadata": {},
   "outputs": [
    {
     "name": "stdout",
     "output_type": "stream",
     "text": [
      "我/ 爱/ 北京/ 天安门/ ，/ 五环/ 比六环少/ 一环/ ，/ 学好/ python/ 就/ 不是/ 低端/ 劳动力/ 了/ ，/ 呜呜\n"
     ]
    }
   ],
   "source": [
    "fenci = jieba.cut(\"我爱北京天安门，五环比六环少一环，学好python就不是低端劳动力了，呜呜\",cut_all=False)\n",
    "print(\"/ \".join(fenci))"
   ]
  },
  {
   "cell_type": "code",
   "execution_count": 12,
   "metadata": {},
   "outputs": [
    {
     "data": {
      "text/plain": [
       "1"
      ]
     },
     "execution_count": 12,
     "metadata": {},
     "output_type": "execute_result"
    }
   ],
   "source": [
    "jieba.suggest_freq('六环',tune=True)"
   ]
  },
  {
   "cell_type": "code",
   "execution_count": 13,
   "metadata": {},
   "outputs": [
    {
     "name": "stdout",
     "output_type": "stream",
     "text": [
      "我/ 爱/ 北京/ 天安门/ ，/ 五环/ 比/ 六环/ 少一环/ ，/ 学好/ python/ 就/ 不是/ 低端/ 劳动力/ 了/ ，/ 呜呜\n"
     ]
    }
   ],
   "source": [
    "fenci = jieba.cut(\"我爱北京天安门，五环比六环少一环，学好python就不是低端劳动力了，呜呜\",cut_all=False)\n",
    "print(\"/ \".join(fenci))"
   ]
  },
  {
   "cell_type": "markdown",
   "metadata": {},
   "source": [
    "### 使用结巴进行分词\n",
    "* 读取原始弹幕文件\n",
    "* 数据清洗\n",
    "    * 去除相同ID相同danmu相同时间\n",
    "    * 去除NaN， dropNa\n",
    "* 分词\n",
    "* 去停用词\n",
    "    * 加载停止词表\n",
    "    * 去除停用词"
   ]
  },
  {
   "cell_type": "markdown",
   "metadata": {},
   "source": [
    "#### 读取原始弹幕文件"
   ]
  },
  {
   "cell_type": "code",
   "execution_count": 14,
   "metadata": {},
   "outputs": [
    {
     "data": {
      "text/html": [
       "<div>\n",
       "<style scoped>\n",
       "    .dataframe tbody tr th:only-of-type {\n",
       "        vertical-align: middle;\n",
       "    }\n",
       "\n",
       "    .dataframe tbody tr th {\n",
       "        vertical-align: top;\n",
       "    }\n",
       "\n",
       "    .dataframe thead th {\n",
       "        text-align: right;\n",
       "    }\n",
       "</style>\n",
       "<table border=\"1\" class=\"dataframe\">\n",
       "  <thead>\n",
       "    <tr style=\"text-align: right;\">\n",
       "      <th></th>\n",
       "      <th>time</th>\n",
       "      <th>format</th>\n",
       "      <th>font</th>\n",
       "      <th>color</th>\n",
       "      <th>data_unix</th>\n",
       "      <th>danmuchi</th>\n",
       "      <th>ID</th>\n",
       "      <th>rowID</th>\n",
       "      <th>danmu</th>\n",
       "    </tr>\n",
       "  </thead>\n",
       "  <tbody>\n",
       "    <tr>\n",
       "      <th>0</th>\n",
       "      <td>330.961</td>\n",
       "      <td>1</td>\n",
       "      <td>25</td>\n",
       "      <td>16777215</td>\n",
       "      <td>1425561533</td>\n",
       "      <td>0</td>\n",
       "      <td>D1e724a3</td>\n",
       "      <td>823664980</td>\n",
       "      <td>周总理 生日快乐~~~</td>\n",
       "    </tr>\n",
       "    <tr>\n",
       "      <th>1</th>\n",
       "      <td>365.341</td>\n",
       "      <td>1</td>\n",
       "      <td>25</td>\n",
       "      <td>16777215</td>\n",
       "      <td>1425561535</td>\n",
       "      <td>0</td>\n",
       "      <td>D471d442</td>\n",
       "      <td>823665012</td>\n",
       "      <td>感动 泪目</td>\n",
       "    </tr>\n",
       "    <tr>\n",
       "      <th>2</th>\n",
       "      <td>325.836</td>\n",
       "      <td>1</td>\n",
       "      <td>25</td>\n",
       "      <td>15138834</td>\n",
       "      <td>1425561425</td>\n",
       "      <td>0</td>\n",
       "      <td>122b4249</td>\n",
       "      <td>823665613</td>\n",
       "      <td>周总理生日快乐</td>\n",
       "    </tr>\n",
       "    <tr>\n",
       "      <th>3</th>\n",
       "      <td>267.251</td>\n",
       "      <td>1</td>\n",
       "      <td>25</td>\n",
       "      <td>16777215</td>\n",
       "      <td>1425561559</td>\n",
       "      <td>0</td>\n",
       "      <td>4d64603e</td>\n",
       "      <td>823665751</td>\n",
       "      <td>种大蘑菇了。。。</td>\n",
       "    </tr>\n",
       "    <tr>\n",
       "      <th>4</th>\n",
       "      <td>358.314</td>\n",
       "      <td>1</td>\n",
       "      <td>25</td>\n",
       "      <td>16777215</td>\n",
       "      <td>1425561577</td>\n",
       "      <td>0</td>\n",
       "      <td>a018b2aa</td>\n",
       "      <td>823666293</td>\n",
       "      <td>好好听</td>\n",
       "    </tr>\n",
       "  </tbody>\n",
       "</table>\n",
       "</div>"
      ],
      "text/plain": [
       "      time  format  font     color   data_unix  danmuchi        ID      rowID  \\\n",
       "0  330.961       1    25  16777215  1425561533         0  D1e724a3  823664980   \n",
       "1  365.341       1    25  16777215  1425561535         0  D471d442  823665012   \n",
       "2  325.836       1    25  15138834  1425561425         0  122b4249  823665613   \n",
       "3  267.251       1    25  16777215  1425561559         0  4d64603e  823665751   \n",
       "4  358.314       1    25  16777215  1425561577         0  a018b2aa  823666293   \n",
       "\n",
       "         danmu  \n",
       "0  周总理 生日快乐~~~  \n",
       "1        感动 泪目  \n",
       "2      周总理生日快乐  \n",
       "3     种大蘑菇了。。。  \n",
       "4          好好听  "
      ]
     },
     "execution_count": 14,
     "metadata": {},
     "output_type": "execute_result"
    }
   ],
   "source": [
    "danmu = pd.read_csv('data/第一季第1集.csv',engine='python',encoding='utf-8')\n",
    "\n",
    "# 删除第一行\n",
    "danmu.drop('Unnamed: 0',axis=1,inplace=True)\n",
    "\n",
    "danmu.head()"
   ]
  },
  {
   "cell_type": "code",
   "execution_count": 15,
   "metadata": {},
   "outputs": [
    {
     "data": {
      "text/plain": [
       "Index(['time', 'format', 'font', 'color', 'data_unix', 'danmuchi', 'ID',\n",
       "       'rowID', 'danmu'],\n",
       "      dtype='object')"
      ]
     },
     "execution_count": 15,
     "metadata": {},
     "output_type": "execute_result"
    }
   ],
   "source": [
    "danmu.columns"
   ]
  },
  {
   "cell_type": "code",
   "execution_count": 16,
   "metadata": {
    "scrolled": true
   },
   "outputs": [
    {
     "data": {
      "text/html": [
       "<div>\n",
       "<style scoped>\n",
       "    .dataframe tbody tr th:only-of-type {\n",
       "        vertical-align: middle;\n",
       "    }\n",
       "\n",
       "    .dataframe tbody tr th {\n",
       "        vertical-align: top;\n",
       "    }\n",
       "\n",
       "    .dataframe thead th {\n",
       "        text-align: right;\n",
       "    }\n",
       "</style>\n",
       "<table border=\"1\" class=\"dataframe\">\n",
       "  <thead>\n",
       "    <tr style=\"text-align: right;\">\n",
       "      <th></th>\n",
       "      <th>ID</th>\n",
       "      <th>danmu</th>\n",
       "    </tr>\n",
       "  </thead>\n",
       "  <tbody>\n",
       "    <tr>\n",
       "      <th>0</th>\n",
       "      <td>D1e724a3</td>\n",
       "      <td>周总理 生日快乐~~~</td>\n",
       "    </tr>\n",
       "    <tr>\n",
       "      <th>1</th>\n",
       "      <td>D471d442</td>\n",
       "      <td>感动 泪目</td>\n",
       "    </tr>\n",
       "    <tr>\n",
       "      <th>2</th>\n",
       "      <td>122b4249</td>\n",
       "      <td>周总理生日快乐</td>\n",
       "    </tr>\n",
       "    <tr>\n",
       "      <th>3</th>\n",
       "      <td>4d64603e</td>\n",
       "      <td>种大蘑菇了。。。</td>\n",
       "    </tr>\n",
       "    <tr>\n",
       "      <th>4</th>\n",
       "      <td>a018b2aa</td>\n",
       "      <td>好好听</td>\n",
       "    </tr>\n",
       "  </tbody>\n",
       "</table>\n",
       "</div>"
      ],
      "text/plain": [
       "         ID        danmu\n",
       "0  D1e724a3  周总理 生日快乐~~~\n",
       "1  D471d442        感动 泪目\n",
       "2  122b4249      周总理生日快乐\n",
       "3  4d64603e     种大蘑菇了。。。\n",
       "4  a018b2aa          好好听"
      ]
     },
     "execution_count": 16,
     "metadata": {},
     "output_type": "execute_result"
    }
   ],
   "source": [
    "danmu[['ID','danmu']].head()"
   ]
  },
  {
   "cell_type": "markdown",
   "metadata": {},
   "source": [
    "#### 去除单人重复同样内容"
   ]
  },
  {
   "cell_type": "markdown",
   "metadata": {
    "collapsed": true
   },
   "source": [
    "* danmu_unique = danmu.drop_duplicates(__target_columns_list__).reset_index()"
   ]
  },
  {
   "cell_type": "code",
   "execution_count": 17,
   "metadata": {},
   "outputs": [
    {
     "data": {
      "text/html": [
       "<div>\n",
       "<style scoped>\n",
       "    .dataframe tbody tr th:only-of-type {\n",
       "        vertical-align: middle;\n",
       "    }\n",
       "\n",
       "    .dataframe tbody tr th {\n",
       "        vertical-align: top;\n",
       "    }\n",
       "\n",
       "    .dataframe thead th {\n",
       "        text-align: right;\n",
       "    }\n",
       "</style>\n",
       "<table border=\"1\" class=\"dataframe\">\n",
       "  <thead>\n",
       "    <tr style=\"text-align: right;\">\n",
       "      <th></th>\n",
       "      <th>index</th>\n",
       "      <th>time</th>\n",
       "      <th>format</th>\n",
       "      <th>font</th>\n",
       "      <th>color</th>\n",
       "      <th>data_unix</th>\n",
       "      <th>danmuchi</th>\n",
       "      <th>ID</th>\n",
       "      <th>rowID</th>\n",
       "      <th>danmu</th>\n",
       "    </tr>\n",
       "  </thead>\n",
       "  <tbody>\n",
       "    <tr>\n",
       "      <th>0</th>\n",
       "      <td>0</td>\n",
       "      <td>330.961</td>\n",
       "      <td>1</td>\n",
       "      <td>25</td>\n",
       "      <td>16777215</td>\n",
       "      <td>1425561533</td>\n",
       "      <td>0</td>\n",
       "      <td>D1e724a3</td>\n",
       "      <td>823664980</td>\n",
       "      <td>周总理 生日快乐~~~</td>\n",
       "    </tr>\n",
       "    <tr>\n",
       "      <th>1</th>\n",
       "      <td>1</td>\n",
       "      <td>365.341</td>\n",
       "      <td>1</td>\n",
       "      <td>25</td>\n",
       "      <td>16777215</td>\n",
       "      <td>1425561535</td>\n",
       "      <td>0</td>\n",
       "      <td>D471d442</td>\n",
       "      <td>823665012</td>\n",
       "      <td>感动 泪目</td>\n",
       "    </tr>\n",
       "    <tr>\n",
       "      <th>2</th>\n",
       "      <td>2</td>\n",
       "      <td>325.836</td>\n",
       "      <td>1</td>\n",
       "      <td>25</td>\n",
       "      <td>15138834</td>\n",
       "      <td>1425561425</td>\n",
       "      <td>0</td>\n",
       "      <td>122b4249</td>\n",
       "      <td>823665613</td>\n",
       "      <td>周总理生日快乐</td>\n",
       "    </tr>\n",
       "    <tr>\n",
       "      <th>3</th>\n",
       "      <td>3</td>\n",
       "      <td>267.251</td>\n",
       "      <td>1</td>\n",
       "      <td>25</td>\n",
       "      <td>16777215</td>\n",
       "      <td>1425561559</td>\n",
       "      <td>0</td>\n",
       "      <td>4d64603e</td>\n",
       "      <td>823665751</td>\n",
       "      <td>种大蘑菇了。。。</td>\n",
       "    </tr>\n",
       "    <tr>\n",
       "      <th>4</th>\n",
       "      <td>4</td>\n",
       "      <td>358.314</td>\n",
       "      <td>1</td>\n",
       "      <td>25</td>\n",
       "      <td>16777215</td>\n",
       "      <td>1425561577</td>\n",
       "      <td>0</td>\n",
       "      <td>a018b2aa</td>\n",
       "      <td>823666293</td>\n",
       "      <td>好好听</td>\n",
       "    </tr>\n",
       "  </tbody>\n",
       "</table>\n",
       "</div>"
      ],
      "text/plain": [
       "   index     time  format  font     color   data_unix  danmuchi        ID  \\\n",
       "0      0  330.961       1    25  16777215  1425561533         0  D1e724a3   \n",
       "1      1  365.341       1    25  16777215  1425561535         0  D471d442   \n",
       "2      2  325.836       1    25  15138834  1425561425         0  122b4249   \n",
       "3      3  267.251       1    25  16777215  1425561559         0  4d64603e   \n",
       "4      4  358.314       1    25  16777215  1425561577         0  a018b2aa   \n",
       "\n",
       "       rowID        danmu  \n",
       "0  823664980  周总理 生日快乐~~~  \n",
       "1  823665012        感动 泪目  \n",
       "2  823665613      周总理生日快乐  \n",
       "3  823665751     种大蘑菇了。。。  \n",
       "4  823666293          好好听  "
      ]
     },
     "execution_count": 17,
     "metadata": {},
     "output_type": "execute_result"
    }
   ],
   "source": [
    "# 删除'ID'或'danmu'或'data_unix'相同的行，并重新设置id为 0开始的整数\n",
    "danmu_unique = danmu.drop_duplicates(['ID','danmu','data_unix']).reset_index()\n",
    "danmu_unique.head()"
   ]
  },
  {
   "cell_type": "markdown",
   "metadata": {},
   "source": [
    "#### 去除NaN"
   ]
  },
  {
   "cell_type": "markdown",
   "metadata": {},
   "source": [
    "- 数据自身操作\n",
    "* danmu_unique.dropna(inplace=True)"
   ]
  },
  {
   "cell_type": "code",
   "execution_count": 18,
   "metadata": {},
   "outputs": [
    {
     "data": {
      "text/plain": [
       "index         0\n",
       "time          0\n",
       "format        0\n",
       "font          0\n",
       "color         0\n",
       "data_unix     0\n",
       "danmuchi      0\n",
       "ID            0\n",
       "rowID         0\n",
       "danmu        48\n",
       "dtype: int64"
      ]
     },
     "execution_count": 18,
     "metadata": {},
     "output_type": "execute_result"
    }
   ],
   "source": [
    "## 统计空值，柱状图\n",
    "danmu_unique.isnull().sum() # .plot(kind='bar',stacked=True) "
   ]
  },
  {
   "cell_type": "code",
   "execution_count": 19,
   "metadata": {},
   "outputs": [
    {
     "data": {
      "text/html": [
       "<div>\n",
       "<style scoped>\n",
       "    .dataframe tbody tr th:only-of-type {\n",
       "        vertical-align: middle;\n",
       "    }\n",
       "\n",
       "    .dataframe tbody tr th {\n",
       "        vertical-align: top;\n",
       "    }\n",
       "\n",
       "    .dataframe thead th {\n",
       "        text-align: right;\n",
       "    }\n",
       "</style>\n",
       "<table border=\"1\" class=\"dataframe\">\n",
       "  <thead>\n",
       "    <tr style=\"text-align: right;\">\n",
       "      <th></th>\n",
       "      <th>index</th>\n",
       "      <th>time</th>\n",
       "      <th>format</th>\n",
       "      <th>font</th>\n",
       "      <th>color</th>\n",
       "      <th>data_unix</th>\n",
       "      <th>danmuchi</th>\n",
       "      <th>ID</th>\n",
       "      <th>rowID</th>\n",
       "      <th>danmu</th>\n",
       "    </tr>\n",
       "  </thead>\n",
       "  <tbody>\n",
       "    <tr>\n",
       "      <th>0</th>\n",
       "      <td>0</td>\n",
       "      <td>330.961</td>\n",
       "      <td>1</td>\n",
       "      <td>25</td>\n",
       "      <td>16777215</td>\n",
       "      <td>1425561533</td>\n",
       "      <td>0</td>\n",
       "      <td>D1e724a3</td>\n",
       "      <td>823664980</td>\n",
       "      <td>周总理 生日快乐~~~</td>\n",
       "    </tr>\n",
       "    <tr>\n",
       "      <th>1</th>\n",
       "      <td>1</td>\n",
       "      <td>365.341</td>\n",
       "      <td>1</td>\n",
       "      <td>25</td>\n",
       "      <td>16777215</td>\n",
       "      <td>1425561535</td>\n",
       "      <td>0</td>\n",
       "      <td>D471d442</td>\n",
       "      <td>823665012</td>\n",
       "      <td>感动 泪目</td>\n",
       "    </tr>\n",
       "    <tr>\n",
       "      <th>2</th>\n",
       "      <td>2</td>\n",
       "      <td>325.836</td>\n",
       "      <td>1</td>\n",
       "      <td>25</td>\n",
       "      <td>15138834</td>\n",
       "      <td>1425561425</td>\n",
       "      <td>0</td>\n",
       "      <td>122b4249</td>\n",
       "      <td>823665613</td>\n",
       "      <td>周总理生日快乐</td>\n",
       "    </tr>\n",
       "    <tr>\n",
       "      <th>3</th>\n",
       "      <td>3</td>\n",
       "      <td>267.251</td>\n",
       "      <td>1</td>\n",
       "      <td>25</td>\n",
       "      <td>16777215</td>\n",
       "      <td>1425561559</td>\n",
       "      <td>0</td>\n",
       "      <td>4d64603e</td>\n",
       "      <td>823665751</td>\n",
       "      <td>种大蘑菇了。。。</td>\n",
       "    </tr>\n",
       "    <tr>\n",
       "      <th>4</th>\n",
       "      <td>4</td>\n",
       "      <td>358.314</td>\n",
       "      <td>1</td>\n",
       "      <td>25</td>\n",
       "      <td>16777215</td>\n",
       "      <td>1425561577</td>\n",
       "      <td>0</td>\n",
       "      <td>a018b2aa</td>\n",
       "      <td>823666293</td>\n",
       "      <td>好好听</td>\n",
       "    </tr>\n",
       "  </tbody>\n",
       "</table>\n",
       "</div>"
      ],
      "text/plain": [
       "   index     time  format  font     color   data_unix  danmuchi        ID  \\\n",
       "0      0  330.961       1    25  16777215  1425561533         0  D1e724a3   \n",
       "1      1  365.341       1    25  16777215  1425561535         0  D471d442   \n",
       "2      2  325.836       1    25  15138834  1425561425         0  122b4249   \n",
       "3      3  267.251       1    25  16777215  1425561559         0  4d64603e   \n",
       "4      4  358.314       1    25  16777215  1425561577         0  a018b2aa   \n",
       "\n",
       "       rowID        danmu  \n",
       "0  823664980  周总理 生日快乐~~~  \n",
       "1  823665012        感动 泪目  \n",
       "2  823665613      周总理生日快乐  \n",
       "3  823665751     种大蘑菇了。。。  \n",
       "4  823666293          好好听  "
      ]
     },
     "execution_count": 19,
     "metadata": {},
     "output_type": "execute_result"
    }
   ],
   "source": [
    "danmu_unique.dropna(inplace=True)\n",
    "danmu_unique.head()"
   ]
  },
  {
   "cell_type": "markdown",
   "metadata": {},
   "source": [
    "#### 分词"
   ]
  },
  {
   "cell_type": "markdown",
   "metadata": {
    "collapsed": true
   },
   "source": [
    "* comments = \" \".join(list(danmu_unique['danmu']))"
   ]
  },
  {
   "cell_type": "code",
   "execution_count": 20,
   "metadata": {},
   "outputs": [
    {
     "data": {
      "text/plain": [
       "1"
      ]
     },
     "execution_count": 20,
     "metadata": {},
     "output_type": "execute_result"
    }
   ],
   "source": [
    "# 自定义词组\n",
    "# jieba.suggest_freq((\"中国红\", \"无路可退\", \"东北话\"),tune=True)\n",
    "# jieba.suggest_freq((\"高卢鸡\", \"汉斯猫\", \"白头鹰\", \"脚盘鸡\", \"鹰酱\"), tune=True)\n",
    "# jieba.suggest_freq([\"种花家\", \"中华家\",\"大天朝\"],tune=True)\n",
    "# jieba.suggest_freq(\"带偏\", tune=True)\n",
    "jieba.suggest_freq(\"种大蘑菇\", tune=True)\n",
    "jieba.suggest_freq(\"中国红\", tune=True)\n",
    "jieba.suggest_freq(\"种花家\", tune=True)\n",
    "jieba.suggest_freq(\"种花\", tune=True)\n",
    "jieba.suggest_freq(\"中华家\", tune=True)\n",
    "jieba.suggest_freq(\"大天朝\", tune=True)"
   ]
  },
  {
   "cell_type": "code",
   "execution_count": 21,
   "metadata": {},
   "outputs": [
    {
     "data": {
      "text/plain": [
       "2813"
      ]
     },
     "execution_count": 21,
     "metadata": {},
     "output_type": "execute_result"
    }
   ],
   "source": [
    "jieba.suggest_freq(\"日本\", tune=False)\n",
    "jieba.suggest_freq(\"脚盘\", tune=False)\n",
    "jieba.suggest_freq(\"蒋介石\", tune=False)"
   ]
  },
  {
   "cell_type": "code",
   "execution_count": 22,
   "metadata": {},
   "outputs": [
    {
     "data": {
      "text/plain": [
       "(str, '周总理 生日快乐~~~ 感动 泪目 周总')"
      ]
     },
     "execution_count": 22,
     "metadata": {},
     "output_type": "execute_result"
    }
   ],
   "source": [
    "# 弹幕内容整合，并去掉空格\n",
    "comments = \" \".join(list(danmu_unique['danmu'])).strip()\n",
    "type(comments), comments[:20]"
   ]
  },
  {
   "cell_type": "code",
   "execution_count": 23,
   "metadata": {},
   "outputs": [
    {
     "data": {
      "text/plain": [
       "(list, ['周总理', ' ', '生日快乐', '~', '~', '~', ' ', '感动', ' ', '泪目'])"
      ]
     },
     "execution_count": 23,
     "metadata": {},
     "output_type": "execute_result"
    }
   ],
   "source": [
    "# 分词\n",
    "danmu_fenci = list(jieba.cut(comments,cut_all=False))\n",
    "type(danmu_fenci), danmu_fenci[:10]"
   ]
  },
  {
   "cell_type": "markdown",
   "metadata": {},
   "source": [
    "#### 去停用词"
   ]
  },
  {
   "cell_type": "markdown",
   "metadata": {},
   "source": [
    "* 加载停用词词表\n"
   ]
  },
  {
   "cell_type": "code",
   "execution_count": 24,
   "metadata": {},
   "outputs": [
    {
     "data": {
      "text/plain": [
       "(list, 1896)"
      ]
     },
     "execution_count": 24,
     "metadata": {},
     "output_type": "execute_result"
    }
   ],
   "source": [
    "# 停用字列表\n",
    "stopwords = [line.strip() for line in open('./stopword/stopword_chinese.txt', 'r', encoding='utf8').readlines()]\n",
    "stopwords.extend([' ', '呜呜'])\n",
    "\n",
    "# 去除停用字方法 rm_stop\n",
    "rm_stop = lambda anmu_fenci,stopwords:[w for w in anmu_fenci if w not in stopwords and w !='\\t']\n",
    "\n",
    "# \\ufeff IS THE bom, byte order mark in python\n",
    "\n",
    "type(stopwords), len(stopwords)"
   ]
  },
  {
   "cell_type": "code",
   "execution_count": 25,
   "metadata": {},
   "outputs": [
    {
     "name": "stdout",
     "output_type": "stream",
     "text": [
      "['\\ufeff', '!', '\"', '#', '$', '%', '&', \"'\", '(', ')', '*', '+', ',', '-', '--', '.', '..', '...', '......', '...................', './', '.一', '.数', '.日', '/', '//', '0', '1', '2', '3', '4', '5', '6', '7', '8', '9', ':', '://', '::', ';', '<', '=', '>', '>>', '?', '@', 'A', 'Lex', '[', '\\\\', ']', '^', '_', '`', 'exp', 'sub', 'sup', '|', '}', '~', '~~~~', '·', '×', '×××', 'Δ', 'Ψ', 'γ', 'μ', 'φ', 'φ．', 'В', '—', '——', '———', '‘', '’', '’‘', '“', '”', '”，', '…', '……', '…………………………………………………③', '′∈', '′｜', '℃', 'Ⅲ', '↑', '→', '∈［', '∪φ∈', '≈', '①', '②', '②ｃ', '③', '③］', '④', '⑤', '⑥', '⑦', '⑧', '⑨', '⑩', '──', '■', '▲', '', '、', '。', '〈', '〉', '《', '》', '》），', '」', '『', '』', '【', '】', '〔', '〕', '〕〔', '㈧', '一', '一.', '一一', '一下', '一个', '一些', '一何', '一切', '一则', '一则通过', '一天', '一定', '一方面', '一旦', '一时', '一来', '一样', '一次', '一片', '一番', '一直', '一致', '一般', '一起', '一转眼', '一边', '一面', '七', '万一', '三', '三天两头', '三番两次', '三番五次', '上', '上下', '上升', '上去', '上来', '上述', '上面', '下', '下列', '下去', '下来', '下面', '不', '不一', '不下', '不久', '不了', '不亦乐乎', '不仅', '不仅...而且', '不仅仅', '不仅仅是', '不会', '不但', '不但...而且', '不光', '不免', '不再', '不力', '不单', '不变', '不只', '不可', '不可开交', '不可抗拒', '不同', '不外', '不外乎', '不够', '不大', '不如', '不妨', '不定']\n"
     ]
    }
   ],
   "source": [
    "print(stopwords[:200])"
   ]
  },
  {
   "cell_type": "markdown",
   "metadata": {},
   "source": [
    "* 去停用词"
   ]
  },
  {
   "cell_type": "code",
   "execution_count": 26,
   "metadata": {},
   "outputs": [
    {
     "data": {
      "text/plain": [
       "['生日快乐',\n",
       " '感动',\n",
       " '泪目',\n",
       " '周总理',\n",
       " '生日快乐',\n",
       " '种大蘑菇',\n",
       " '好好',\n",
       " '听',\n",
       " '周总理',\n",
       " '生日快乐',\n",
       " '黄维恒',\n",
       " '没种',\n",
       " '男孩',\n",
       " '矮马',\n",
       " '想',\n",
       " '配音',\n",
       " '黄维恒',\n",
       " '没种',\n",
       " '男孩']"
      ]
     },
     "execution_count": 26,
     "metadata": {},
     "output_type": "execute_result"
    }
   ],
   "source": [
    "refined_words = [w for w in danmu_fenci if w not in stopwords and w != '\\t']\n",
    "\n",
    "refined_words[1:20]"
   ]
  },
  {
   "cell_type": "markdown",
   "metadata": {},
   "source": [
    "### 整理词频"
   ]
  },
  {
   "cell_type": "code",
   "execution_count": 27,
   "metadata": {},
   "outputs": [
    {
     "data": {
      "text/plain": [
       "[('周总理', 115),\n",
       " ('生日快乐', 213),\n",
       " ('感动', 1381),\n",
       " ('泪目', 1320),\n",
       " ('种大蘑菇', 1),\n",
       " ('好好', 44),\n",
       " ('听', 127),\n",
       " ('黄维恒', 6),\n",
       " ('没种', 5),\n",
       " ('男孩', 34)]"
      ]
     },
     "execution_count": 27,
     "metadata": {},
     "output_type": "execute_result"
    }
   ],
   "source": [
    "from collections import Counter\n",
    "\n",
    "words_counter = Counter(refined_words) # TYPE: collections.Counter\n",
    "\n",
    "list(words_counter.items())[:10]"
   ]
  },
  {
   "cell_type": "markdown",
   "metadata": {},
   "source": [
    "#### sort by key"
   ]
  },
  {
   "cell_type": "code",
   "execution_count": 28,
   "metadata": {},
   "outputs": [
    {
     "data": {
      "text/plain": [
       "[('++', 2),\n",
       " ('+++++', 1),\n",
       " ('++++++++++++', 1),\n",
       " ('+_+', 1),\n",
       " ('....', 53),\n",
       " ('.....', 32),\n",
       " ('.......', 10),\n",
       " ('........', 11),\n",
       " ('.........', 6),\n",
       " ('..........', 3)]"
      ]
     },
     "execution_count": 28,
     "metadata": {},
     "output_type": "execute_result"
    }
   ],
   "source": [
    "sorted_counter_key = sorted(words_counter.items(),key=lambda t:t[0]) # TYPE: list\n",
    "\n",
    "sorted_counter_key[:10]"
   ]
  },
  {
   "cell_type": "markdown",
   "metadata": {},
   "source": [
    "#### sort by value"
   ]
  },
  {
   "cell_type": "code",
   "execution_count": 29,
   "metadata": {},
   "outputs": [
    {
     "data": {
      "text/plain": [
       "[('中国', 2549),\n",
       " ('哭', 2384),\n",
       " ('兔子', 1486),\n",
       " ('感动', 1381),\n",
       " ('泪目', 1320),\n",
       " ('种花家', 1292),\n",
       " ('日本', 923),\n",
       " ('万岁', 816),\n",
       " ('此生', 761),\n",
       " ('中华', 716)]"
      ]
     },
     "execution_count": 29,
     "metadata": {},
     "output_type": "execute_result"
    }
   ],
   "source": [
    "sorted_counter_value = sorted(words_counter.items(),key=lambda t:t[1],reverse=True)\n",
    "sorted_counter_value[:10]"
   ]
  },
  {
   "cell_type": "markdown",
   "metadata": {},
   "source": [
    "### 关键词计算\n",
    "* TF-IDF （词频-逆词频分析 《python数据分析》P190\n",
    "* textrank "
   ]
  },
  {
   "cell_type": "markdown",
   "metadata": {},
   "source": [
    "#### TF-IDF提取关键词"
   ]
  },
  {
   "cell_type": "code",
   "execution_count": 30,
   "metadata": {},
   "outputs": [],
   "source": [
    "from jieba import analyse"
   ]
  },
  {
   "cell_type": "code",
   "execution_count": 31,
   "metadata": {},
   "outputs": [
    {
     "data": {
      "image/png": "[encoded data removed]",
      "text/plain": [
       "<IPython.core.display.Image object>"
      ]
     },
     "execution_count": 31,
     "metadata": {},
     "output_type": "execute_result"
    }
   ],
   "source": [
    "Image(filename='./img/tfidf.png')"
   ]
  },
  {
   "cell_type": "markdown",
   "metadata": {},
   "source": [
    "* tags_tfidf = analyse.extract_tags(comments,topK=20)"
   ]
  },
  {
   "cell_type": "code",
   "execution_count": 32,
   "metadata": {},
   "outputs": [
    {
     "data": {
      "text/plain": [
       "['泪目',\n",
       " '种花家',\n",
       " '兔子',\n",
       " '感动',\n",
       " 'QAQ',\n",
       " '中国',\n",
       " '无悔',\n",
       " '此生',\n",
       " '卧槽',\n",
       " '万岁',\n",
       " '哈哈哈',\n",
       " '骄傲',\n",
       " '中华',\n",
       " '山新',\n",
       " '国共合作',\n",
       " '追梦',\n",
       " '赤子心',\n",
       " '日本',\n",
       " '脚盆',\n",
       " '原子弹']"
      ]
     },
     "execution_count": 32,
     "metadata": {},
     "output_type": "execute_result"
    }
   ],
   "source": [
    "tags_tfidf = analyse.extract_tags(comments,topK=20) # 提取20个关键词\n",
    "\n",
    "tags_tfidf"
   ]
  },
  {
   "cell_type": "markdown",
   "metadata": {},
   "source": [
    "#### textrank算法进行关键词权重计算"
   ]
  },
  {
   "cell_type": "markdown",
   "metadata": {},
   "source": [
    "** 算法 **\n",
    "1. 识别文本单词，将其作为图的顶点置入图中\n",
    "2. 一一计算文本单词对的关系（权重），并用这样的权重构造出图中对应的边\n",
    "3. 基于textrank迭代计算公式，计算每个顶点（单词）的权重，直至收敛\n",
    "4. 按照顶点的分数降序排列"
   ]
  },
  {
   "cell_type": "code",
   "execution_count": 33,
   "metadata": {},
   "outputs": [
    {
     "data": {
      "image/jpeg": "[encoded data removed]",
      "text/plain": [
       "<IPython.core.display.Image object>"
      ]
     },
     "execution_count": 33,
     "metadata": {},
     "output_type": "execute_result"
    }
   ],
   "source": [
    "Image(filename='./img/textranking_form.jpg')"
   ]
  },
  {
   "cell_type": "markdown",
   "metadata": {},
   "source": [
    "* textrank = analyse.textrank\n",
    "* tags_textrank = textrank(comments,topK=20,withWeight=True,allowPOS=('ns','n','vn','v'))"
   ]
  },
  {
   "cell_type": "code",
   "execution_count": 34,
   "metadata": {},
   "outputs": [
    {
     "data": {
      "text/plain": [
       "list"
      ]
     },
     "execution_count": 34,
     "metadata": {},
     "output_type": "execute_result"
    }
   ],
   "source": [
    "textrank = analyse.textrank\n",
    "tags_textrank = textrank(comments,topK=20,withWeight=True,allowPOS=('ns','n','vn','v'))\n",
    "type(tags_textrank)"
   ]
  },
  {
   "cell_type": "code",
   "execution_count": 35,
   "metadata": {},
   "outputs": [
    {
     "name": "stdout",
     "output_type": "stream",
     "text": [
      "中国 1.0\n",
      "兔子 0.7256295642906461\n",
      "日本 0.6572046912719368\n",
      "泪目 0.5970824654342068\n",
      "感动 0.5892955628805125\n",
      "美国 0.4523106478940384\n",
      "历史 0.4071784637355347\n",
      "没有 0.32308589180429026\n",
      "无悔 0.3033823765954925\n",
      "原子弹 0.2988469195888182\n",
      "国共合作 0.2472211439928369\n",
      "零式 0.22429084259589865\n",
      "追梦 0.22119359913726505\n",
      "赤子心 0.2182083023961729\n",
      "华夏 0.2174579726374641\n",
      "卧槽 0.2145818729556666\n",
      "莫名 0.2052810946080274\n",
      "秃子 0.20089434082737587\n",
      "内战 0.18292967828647666\n",
      "脚盆 0.1821917590622833\n"
     ]
    }
   ],
   "source": [
    "for tag in tags_textrank:\n",
    "    print(tag[0],tag[1])"
   ]
  },
  {
   "cell_type": "markdown",
   "metadata": {
    "collapsed": true
   },
   "source": [
    "### 生成词云"
   ]
  },
  {
   "cell_type": "markdown",
   "metadata": {},
   "source": [
    "* 下载相应版本的wordcloud: https://www.lfd.uci.edu/~gohlke/pythonlibs/#wordcloud\n",
    "* pip install "
   ]
  },
  {
   "cell_type": "code",
   "execution_count": 36,
   "metadata": {},
   "outputs": [],
   "source": [
    "from wordcloud import WordCloud"
   ]
  },
  {
   "cell_type": "markdown",
   "metadata": {},
   "source": [
    "#### 测试词云"
   ]
  },
  {
   "cell_type": "code",
   "execution_count": 37,
   "metadata": {},
   "outputs": [
    {
     "data": {
      "text/plain": [
       "(str, 2927)"
      ]
     },
     "execution_count": 37,
     "metadata": {},
     "output_type": "execute_result"
    }
   ],
   "source": [
    "text = open(r'data/test_wordCloud.txt','r', encoding='UTF-8').read()\n",
    "type(text), len(text)"
   ]
  },
  {
   "cell_type": "code",
   "execution_count": 38,
   "metadata": {},
   "outputs": [
    {
     "data": {
      "text/plain": [
       "<wordcloud.wordcloud.WordCloud at 0x3159d2b0>"
      ]
     },
     "execution_count": 38,
     "metadata": {},
     "output_type": "execute_result"
    }
   ],
   "source": [
    "wordcloud = WordCloud(background_color='black',scale=1.5).generate(text)\n",
    "\n",
    "wordcloud.to_file(r'graph/test_wordCloud.png')# 保存\n",
    "\n",
    "wordcloud"
   ]
  },
  {
   "cell_type": "code",
   "execution_count": 39,
   "metadata": {},
   "outputs": [
    {
     "data": {
      "image/png": "[encoded data removed]",
      "text/plain": [
       "<Figure size 432x288 with 1 Axes>"
      ]
     },
     "metadata": {
      "needs_background": "light"
     },
     "output_type": "display_data"
    }
   ],
   "source": [
    "#显示词云图片\n",
    "plt.imshow(wordcloud)\n",
    "plt.axis('off')\n",
    "plt.show()"
   ]
  },
  {
   "cell_type": "markdown",
   "metadata": {},
   "source": [
    "#### 生成词云"
   ]
  },
  {
   "cell_type": "markdown",
   "metadata": {},
   "source": [
    "- 词云图形"
   ]
  },
  {
   "cell_type": "code",
   "execution_count": 40,
   "metadata": {},
   "outputs": [
    {
     "data": {
      "text/plain": [
       "PIL.JpegImagePlugin.JpegImageFile"
      ]
     },
     "execution_count": 40,
     "metadata": {},
     "output_type": "execute_result"
    }
   ],
   "source": [
    "# 载入词云图形jpg\n",
    "twitter_img = pilImage.open(r'img/cnmap.jpg')\n",
    "type(twitter_img)"
   ]
  },
  {
   "cell_type": "code",
   "execution_count": 41,
   "metadata": {},
   "outputs": [
    {
     "data": {
      "text/plain": [
       "numpy.ndarray"
      ]
     },
     "execution_count": 41,
     "metadata": {},
     "output_type": "execute_result"
    }
   ],
   "source": [
    "#　图片矩阵化\n",
    "twitter_mask = np.array(twitter_img)\n",
    "type(twitter_mask)"
   ]
  },
  {
   "cell_type": "markdown",
   "metadata": {},
   "source": [
    "***"
   ]
  },
  {
   "cell_type": "code",
   "execution_count": 42,
   "metadata": {},
   "outputs": [
    {
     "data": {
      "text/plain": [
       "('周总理 生日快乐 感动 泪目 周总理 生日快乐 种大蘑菇 好好 听 周总理 生日快乐 黄维恒 没种 ', 388838)"
      ]
     },
     "execution_count": 42,
     "metadata": {},
     "output_type": "execute_result"
    }
   ],
   "source": [
    "# 组合提炼字\n",
    "words_space_split = \" \".join(refined_words)\n",
    "\n",
    "words_space_split[:50], len(words_space_split)"
   ]
  },
  {
   "cell_type": "code",
   "execution_count": 43,
   "metadata": {},
   "outputs": [
    {
     "data": {
      "text/plain": [
       "<wordcloud.wordcloud.WordCloud at 0x324787f0>"
      ]
     },
     "execution_count": 43,
     "metadata": {},
     "output_type": "execute_result"
    }
   ],
   "source": [
    "bilibili_wordcloud = WordCloud(collocations=False,\\\n",
    "font_path=r\"C:\\Windows\\Fonts\\STFANGSO.TTF\",\\\n",
    "width=2300, height=2000,max_words=400,mask=twitter_mask,background_color='black').generate(words_space_split) # 生成词云\n",
    "\n",
    "bilibili_wordcloud.to_file('./graph/bili_wordCloud_str.png')# 保存\n",
    "\n",
    "bilibili_wordcloud"
   ]
  },
  {
   "cell_type": "code",
   "execution_count": 44,
   "metadata": {},
   "outputs": [
    {
     "data": {
      "image/png": "[encoded data removed]",
      "text/plain": [
       "<Figure size 432x288 with 1 Axes>"
      ]
     },
     "metadata": {
      "needs_background": "light"
     },
     "output_type": "display_data"
    }
   ],
   "source": [
    "plt.imshow(bilibili_wordcloud)\n",
    "plt.axis(\"off\")\n",
    "plt.show()"
   ]
  },
  {
   "cell_type": "markdown",
   "metadata": {},
   "source": [
    "***"
   ]
  },
  {
   "cell_type": "code",
   "execution_count": 45,
   "metadata": {
    "scrolled": true
   },
   "outputs": [
    {
     "data": {
      "text/plain": [
       "4247"
      ]
     },
     "execution_count": 45,
     "metadata": {},
     "output_type": "execute_result"
    }
   ],
   "source": [
    "# 垃圾回收\n",
    "import gc\n",
    "gc.collect()"
   ]
  },
  {
   "cell_type": "markdown",
   "metadata": {},
   "source": [
    "#### 词频生成词云"
   ]
  },
  {
   "cell_type": "code",
   "execution_count": 46,
   "metadata": {},
   "outputs": [
    {
     "data": {
      "text/plain": [
       "<wordcloud.wordcloud.WordCloud at 0x300f2320>"
      ]
     },
     "execution_count": 46,
     "metadata": {},
     "output_type": "execute_result"
    }
   ],
   "source": [
    "bilibili_wordcloud_freq = WordCloud(collocations=False,\\\n",
    "font_path=r\"C:\\Windows\\Fonts\\STFANGSO.TTF\",\\\n",
    "width=2300, height=2000,max_words=400,mask=twitter_mask,background_color='black').generate_from_frequencies(words_counter) # 生成词云\n",
    "\n",
    "bilibili_wordcloud_freq.to_file('./graph/bili_wordCloud_freq.png')# 保存\n",
    "\n",
    "bilibili_wordcloud_freq"
   ]
  },
  {
   "cell_type": "code",
   "execution_count": 47,
   "metadata": {},
   "outputs": [
    {
     "data": {
      "image/png": "[encoded data removed]",
      "text/plain": [
       "<Figure size 432x288 with 1 Axes>"
      ]
     },
     "metadata": {
      "needs_background": "light"
     },
     "output_type": "display_data"
    }
   ],
   "source": [
    "plt.imshow(bilibili_wordcloud_freq)\n",
    "plt.axis(\"off\")\n",
    "plt.show()"
   ]
  },
  {
   "cell_type": "markdown",
   "metadata": {},
   "source": [
    "***"
   ]
  },
  {
   "cell_type": "code",
   "execution_count": 48,
   "metadata": {},
   "outputs": [
    {
     "data": {
      "text/plain": [
       "2295"
      ]
     },
     "execution_count": 48,
     "metadata": {},
     "output_type": "execute_result"
    }
   ],
   "source": [
    "# 垃圾回收\n",
    "import gc\n",
    "gc.collect()"
   ]
  },
  {
   "cell_type": "markdown",
   "metadata": {
    "collapsed": true
   },
   "source": [
    "## 沿时间的动态变化: 频率与高频词\n",
    "* 不同剧集的高频词\n",
    "* 不同剧集的弹幕分布\n",
    "* 24小时弹幕分布\n",
    "* 年内弹幕分布\n",
    "* 重要节日的表现"
   ]
  },
  {
   "cell_type": "markdown",
   "metadata": {},
   "source": [
    "* 不同剧集的高频词"
   ]
  },
  {
   "cell_type": "code",
   "execution_count": 49,
   "metadata": {},
   "outputs": [],
   "source": [
    "set_num = 9"
   ]
  },
  {
   "cell_type": "code",
   "execution_count": 50,
   "metadata": {},
   "outputs": [
    {
     "name": "stdout",
     "output_type": "stream",
     "text": [
      "['\\ufeff', '!', '\"', '#', '$', '%', '&', \"'\", '(', ')', '*', '+', ',', '-', '--', '.', '..', '...', '......', '...................', './', '.一', '.数', '.日', '/', '//', '0', '1', '2', '3', '4', '5', '6', '7', '8', '9', ':', '://', '::', ';', '<', '=', '>', '>>', '?', '@', 'A', 'Lex', '[', '\\\\', ']', '^', '_', '`', 'exp', 'sub', 'sup', '|', '}', '~', '~~~~', '·', '×', '×××', 'Δ', 'Ψ', 'γ', 'μ', 'φ', 'φ．', 'В', '—', '——', '———', '‘', '’', '’‘', '“', '”', '”，', '…', '……', '…………………………………………………③', '′∈', '′｜', '℃', 'Ⅲ', '↑', '→', '∈［', '∪φ∈', '≈', '①', '②', '②ｃ', '③', '③］', '④', '⑤', '⑥', '⑦', '⑧', '⑨', '⑩', '──', '■', '▲', '', '、', '。', '〈', '〉', '《', '》', '》），', '」', '『', '』', '【', '】', '〔', '〕', '〕〔', '㈧', '一', '一.', '一一', '一下', '一个', '一些', '一何', '一切', '一则', '一则通过', '一天', '一定', '一方面', '一旦', '一时', '一来', '一样', '一次', '一片', '一番', '一直', '一致', '一般', '一起', '一转眼', '一边', '一面', '七', '万一', '三', '三天两头', '三番两次', '三番五次', '上', '上下', '上升', '上去', '上来', '上述', '上面', '下', '下列', '下去', '下来', '下面', '不', '不一', '不下', '不久', '不了', '不亦乐乎', '不仅', '不仅...而且', '不仅仅', '不仅仅是', '不会', '不但', '不但...而且', '不光', '不免', '不再', '不力', '不单', '不变', '不只', '不可', '不可开交', '不可抗拒', '不同', '不外', '不外乎', '不够', '不大', '不如', '不妨', '不定']\n"
     ]
    }
   ],
   "source": [
    "# 去除停用字方法 rm_stop\n",
    "rm_stop = lambda anmu_fenci,stopwords:[w for w in anmu_fenci if w not in stopwords and w !='\\t']\n",
    "\n",
    "\n",
    "# 停用字列表\n",
    "stopwords = [line.strip() for line in open('./stopword/stopword_chinese.txt', 'r', encoding='utf8').readlines()]\n",
    "stopwords.extend([' ', '呜呜'])\n",
    "\n",
    "print(stopwords[:200])"
   ]
  },
  {
   "cell_type": "markdown",
   "metadata": {},
   "source": [
    "### 读取9个弹幕数据集"
   ]
  },
  {
   "cell_type": "code",
   "execution_count": 51,
   "metadata": {},
   "outputs": [
    {
     "data": {
      "text/plain": [
       "['./data/第一季第1集.csv',\n",
       " './data/第一季第2集.csv',\n",
       " './data/第一季第3集.csv',\n",
       " './data/第一季第4集.csv',\n",
       " './data/第一季第5集.csv',\n",
       " './data/第一季第6集.csv',\n",
       " './data/第一季第7集.csv',\n",
       " './data/第一季第8集.csv',\n",
       " './data/第一季第9集.csv']"
      ]
     },
     "execution_count": 51,
     "metadata": {},
     "output_type": "execute_result"
    }
   ],
   "source": [
    "filenames = [str(i+1).join(['./data/第一季第', '集.csv']) for i in range(set_num)]\n",
    "filenames"
   ]
  },
  {
   "cell_type": "markdown",
   "metadata": {},
   "source": [
    "#### tf-idf分析提取关键词 20个"
   ]
  },
  {
   "cell_type": "code",
   "execution_count": 52,
   "metadata": {
    "scrolled": true
   },
   "outputs": [],
   "source": [
    "from jieba import analyse\n",
    "\n",
    "HF_content = {} # 字典存储每个数据集的关键词\n",
    "\n",
    "for i in range(set_num):\n",
    "    try:\n",
    "        danmu = pd.read_csv(filenames[i],engine='python',encoding='utf-8')\n",
    "    except UnicodeDecodeError as ude:\n",
    "        print(i+1, '\\tUnicodeDecodeError', ude)\n",
    "    \n",
    "    # 空值处理\n",
    "    danmu.dropna(inplace=True) \n",
    "    \n",
    "    # 删除同一个人的其他弹幕\n",
    "    danmu.drop('Unnamed: 0',axis=1,inplace=True) # 首列id删除\n",
    "    danmu_unique = danmu.drop_duplicates(['ID','danmu','data_unix']).reset_index() # 删除弹幕\n",
    "    \n",
    "    # 分词\n",
    "    comments = \" \".join(list(danmu_unique['danmu']))\n",
    "    danmu_fenci = list(jieba.cut(comments.strip(),cut_all=False))\n",
    "    \n",
    "    # 去停用词\n",
    "    refined_words = rm_stop(danmu_fenci,stopwords)\n",
    "    tags_tfidf = analyse.extract_tags(\" \".join(refined_words),topK=20) # tf-idf分析提取关键词 20个\n",
    "    \n",
    "    HF_content[i+1]=tags_tfidf"
   ]
  },
  {
   "cell_type": "code",
   "execution_count": 53,
   "metadata": {},
   "outputs": [
    {
     "data": {
      "text/html": [
       "<div>\n",
       "<style scoped>\n",
       "    .dataframe tbody tr th:only-of-type {\n",
       "        vertical-align: middle;\n",
       "    }\n",
       "\n",
       "    .dataframe tbody tr th {\n",
       "        vertical-align: top;\n",
       "    }\n",
       "\n",
       "    .dataframe thead th {\n",
       "        text-align: right;\n",
       "    }\n",
       "</style>\n",
       "<table border=\"1\" class=\"dataframe\">\n",
       "  <thead>\n",
       "    <tr style=\"text-align: right;\">\n",
       "      <th></th>\n",
       "      <th>1</th>\n",
       "      <th>2</th>\n",
       "      <th>3</th>\n",
       "      <th>4</th>\n",
       "      <th>5</th>\n",
       "      <th>6</th>\n",
       "      <th>7</th>\n",
       "      <th>8</th>\n",
       "      <th>9</th>\n",
       "    </tr>\n",
       "  </thead>\n",
       "  <tbody>\n",
       "    <tr>\n",
       "      <th>0</th>\n",
       "      <td>泪目</td>\n",
       "      <td>骗子</td>\n",
       "      <td>致敬</td>\n",
       "      <td>回家</td>\n",
       "      <td>兔子</td>\n",
       "      <td>如你所愿</td>\n",
       "      <td>谢谢</td>\n",
       "      <td>谢谢</td>\n",
       "      <td>致敬</td>\n",
       "    </tr>\n",
       "    <tr>\n",
       "      <th>1</th>\n",
       "      <td>种花家</td>\n",
       "      <td>回来</td>\n",
       "      <td>种花家</td>\n",
       "      <td>忠骨</td>\n",
       "      <td>大国</td>\n",
       "      <td>盛世</td>\n",
       "      <td>我学</td>\n",
       "      <td>暂停</td>\n",
       "      <td>礼炮</td>\n",
       "    </tr>\n",
       "    <tr>\n",
       "      <th>2</th>\n",
       "      <td>兔子</td>\n",
       "      <td>君临天下</td>\n",
       "      <td>此生</td>\n",
       "      <td>马革裹尸</td>\n",
       "      <td>一只</td>\n",
       "      <td>男神</td>\n",
       "      <td>QAQ</td>\n",
       "      <td>成功</td>\n",
       "      <td>献上</td>\n",
       "    </tr>\n",
       "    <tr>\n",
       "      <th>3</th>\n",
       "      <td>感动</td>\n",
       "      <td>雄赳赳</td>\n",
       "      <td>敬礼</td>\n",
       "      <td>公辞</td>\n",
       "      <td>致敬</td>\n",
       "      <td>蘑菇</td>\n",
       "      <td>兔子</td>\n",
       "      <td>致敬</td>\n",
       "      <td>中华</td>\n",
       "    </tr>\n",
       "    <tr>\n",
       "      <th>4</th>\n",
       "      <td>QAQ</td>\n",
       "      <td>有生之年</td>\n",
       "      <td>无悔</td>\n",
       "      <td>青山</td>\n",
       "      <td>钱学森</td>\n",
       "      <td>周总理</td>\n",
       "      <td>大哥</td>\n",
       "      <td>算盘</td>\n",
       "      <td>崛起</td>\n",
       "    </tr>\n",
       "  </tbody>\n",
       "</table>\n",
       "</div>"
      ],
      "text/plain": [
       "     1     2    3     4    5     6    7   8   9\n",
       "0   泪目    骗子   致敬    回家   兔子  如你所愿   谢谢  谢谢  致敬\n",
       "1  种花家    回来  种花家    忠骨   大国    盛世   我学  暂停  礼炮\n",
       "2   兔子  君临天下   此生  马革裹尸   一只    男神  QAQ  成功  献上\n",
       "3   感动   雄赳赳   敬礼    公辞   致敬    蘑菇   兔子  致敬  中华\n",
       "4  QAQ  有生之年   无悔    青山  钱学森   周总理   大哥  算盘  崛起"
      ]
     },
     "execution_count": 53,
     "metadata": {},
     "output_type": "execute_result"
    }
   ],
   "source": [
    "HF_content_df = pd.DataFrame(HF_content)\n",
    "HF_content_df.head()"
   ]
  },
  {
   "cell_type": "code",
   "execution_count": 54,
   "metadata": {},
   "outputs": [],
   "source": [
    "# 写出文件\n",
    "HF_content_df.to_csv('./data/HF_content.csv',encoding='utf-8')"
   ]
  },
  {
   "cell_type": "markdown",
   "metadata": {},
   "source": [
    "#### 不同剧集视频，弹幕关于视频时间分布"
   ]
  },
  {
   "cell_type": "code",
   "execution_count": 55,
   "metadata": {
    "scrolled": false
   },
   "outputs": [
    {
     "data": {
      "image/png": "[encoded data removed]",
      "text/plain": [
       "<Figure size 936x792 with 12 Axes>"
      ]
     },
     "metadata": {
      "needs_background": "light"
     },
     "output_type": "display_data"
    }
   ],
   "source": [
    "f, axs = plt.subplots(4,3,figsize=(13,11)) # 生成4行3列的子图画布，每个子图大小为13英寸*11英寸\n",
    "# print(type(f), type(axs)) # (matplotlib.figure.Figure, numpy.ndarray)\n",
    "\n",
    "for i in range(set_num):\n",
    "    danmu = pd.read_csv(filenames[i],engine='python',encoding='utf-8') # 读取数据集\n",
    "    \n",
    "    danmu.dropna(inplace=True) # 空值处理\n",
    "    \n",
    "    time_danmu = danmu['time'] # 时间Series\n",
    "    \n",
    "    sns.kdeplot(np.array(list(time_danmu)), shade=True,ax=axs[i//3][i%3]) # 拟合并绘制单变量或双变量核密度估计值，绘图，曲线图\n",
    "    \n",
    "    axs[i//3][i%3].set_title('Season '+str(1)+'-episode '+str(i+1))"
   ]
  },
  {
   "cell_type": "markdown",
   "metadata": {},
   "source": [
    "### 24小时的弹幕频率分布"
   ]
  },
  {
   "cell_type": "markdown",
   "metadata": {},
   "source": [
    "* unix time: 1970-01-01 00:00:00 Coordinated Universal Time (UTC)\n",
    "* unix time: 1970-01-01 08:00:00 Beijing Time\n",
    "* in seconds"
   ]
  },
  {
   "cell_type": "code",
   "execution_count": 56,
   "metadata": {},
   "outputs": [
    {
     "data": {
      "text/html": [
       "<div>\n",
       "<style scoped>\n",
       "    .dataframe tbody tr th:only-of-type {\n",
       "        vertical-align: middle;\n",
       "    }\n",
       "\n",
       "    .dataframe tbody tr th {\n",
       "        vertical-align: top;\n",
       "    }\n",
       "\n",
       "    .dataframe thead th {\n",
       "        text-align: right;\n",
       "    }\n",
       "</style>\n",
       "<table border=\"1\" class=\"dataframe\">\n",
       "  <thead>\n",
       "    <tr style=\"text-align: right;\">\n",
       "      <th></th>\n",
       "      <th>time</th>\n",
       "      <th>format</th>\n",
       "      <th>font</th>\n",
       "      <th>color</th>\n",
       "      <th>data_unix</th>\n",
       "      <th>danmuchi</th>\n",
       "      <th>ID</th>\n",
       "      <th>rowID</th>\n",
       "      <th>danmu</th>\n",
       "    </tr>\n",
       "  </thead>\n",
       "  <tbody>\n",
       "    <tr>\n",
       "      <th>0</th>\n",
       "      <td>330.961</td>\n",
       "      <td>1</td>\n",
       "      <td>25</td>\n",
       "      <td>16777215</td>\n",
       "      <td>1425561533</td>\n",
       "      <td>0</td>\n",
       "      <td>D1e724a3</td>\n",
       "      <td>823664980</td>\n",
       "      <td>周总理 生日快乐~~~</td>\n",
       "    </tr>\n",
       "    <tr>\n",
       "      <th>1</th>\n",
       "      <td>365.341</td>\n",
       "      <td>1</td>\n",
       "      <td>25</td>\n",
       "      <td>16777215</td>\n",
       "      <td>1425561535</td>\n",
       "      <td>0</td>\n",
       "      <td>D471d442</td>\n",
       "      <td>823665012</td>\n",
       "      <td>感动 泪目</td>\n",
       "    </tr>\n",
       "    <tr>\n",
       "      <th>2</th>\n",
       "      <td>325.836</td>\n",
       "      <td>1</td>\n",
       "      <td>25</td>\n",
       "      <td>15138834</td>\n",
       "      <td>1425561425</td>\n",
       "      <td>0</td>\n",
       "      <td>122b4249</td>\n",
       "      <td>823665613</td>\n",
       "      <td>周总理生日快乐</td>\n",
       "    </tr>\n",
       "    <tr>\n",
       "      <th>3</th>\n",
       "      <td>267.251</td>\n",
       "      <td>1</td>\n",
       "      <td>25</td>\n",
       "      <td>16777215</td>\n",
       "      <td>1425561559</td>\n",
       "      <td>0</td>\n",
       "      <td>4d64603e</td>\n",
       "      <td>823665751</td>\n",
       "      <td>种大蘑菇了。。。</td>\n",
       "    </tr>\n",
       "    <tr>\n",
       "      <th>4</th>\n",
       "      <td>358.314</td>\n",
       "      <td>1</td>\n",
       "      <td>25</td>\n",
       "      <td>16777215</td>\n",
       "      <td>1425561577</td>\n",
       "      <td>0</td>\n",
       "      <td>a018b2aa</td>\n",
       "      <td>823666293</td>\n",
       "      <td>好好听</td>\n",
       "    </tr>\n",
       "  </tbody>\n",
       "</table>\n",
       "</div>"
      ],
      "text/plain": [
       "      time  format  font     color   data_unix  danmuchi        ID      rowID  \\\n",
       "0  330.961       1    25  16777215  1425561533         0  D1e724a3  823664980   \n",
       "1  365.341       1    25  16777215  1425561535         0  D471d442  823665012   \n",
       "2  325.836       1    25  15138834  1425561425         0  122b4249  823665613   \n",
       "3  267.251       1    25  16777215  1425561559         0  4d64603e  823665751   \n",
       "4  358.314       1    25  16777215  1425561577         0  a018b2aa  823666293   \n",
       "\n",
       "         danmu  \n",
       "0  周总理 生日快乐~~~  \n",
       "1        感动 泪目  \n",
       "2      周总理生日快乐  \n",
       "3     种大蘑菇了。。。  \n",
       "4          好好听  "
      ]
     },
     "execution_count": 56,
     "metadata": {},
     "output_type": "execute_result"
    }
   ],
   "source": [
    "Danmu_season_df = pd.DataFrame()\n",
    "\n",
    "for i in range(set_num):\n",
    "    danmu = pd.read_csv(filenames[i],engine='python',encoding='utf-8') # 读取数据集\n",
    "    \n",
    "    danmu.dropna() # 空值处理\n",
    "    \n",
    "    danmu.drop('Unnamed: 0',axis=1,inplace=True) #　删除首列id\n",
    "    \n",
    "#     danmu_unique = danmu.drop_duplicates(['ID','danmu','data_unix']).reset_index() # 删除重复弹幕\n",
    "    \n",
    "    Danmu_season_df = Danmu_season_df.append(danmu,ignore_index=True) \n",
    "    \n",
    "Danmu_season_df.head()"
   ]
  },
  {
   "cell_type": "markdown",
   "metadata": {},
   "source": [
    "#### c处理unix相对时间"
   ]
  },
  {
   "cell_type": "code",
   "execution_count": 57,
   "metadata": {},
   "outputs": [
    {
     "data": {
      "text/plain": [
       "(array([1425590333, 1425590335, 1425590225, 1425590359, 1425590377],\n",
       "       dtype=int64),\n",
       " array([21.31472222, 21.31527778, 21.28472222, 21.32194444, 21.32694444]))"
      ]
     },
     "execution_count": 57,
     "metadata": {},
     "output_type": "execute_result"
    }
   ],
   "source": [
    "all_time = Danmu_season_df['data_unix']\n",
    "\n",
    "all_time_array = np.array(all_time) + 8*60*60 # 处理UTC时间为北京时间\n",
    "all_time_array_24 = all_time_array%(24*60*60)/(60*60) # 统一为单天内的时间度量\n",
    "\n",
    "all_time_array[:5], all_time_array_24[:5]"
   ]
  },
  {
   "cell_type": "code",
   "execution_count": 60,
   "metadata": {},
   "outputs": [
    {
     "data": {
      "image/png": "[encoded data removed]",
      "text/plain": [
       "<Figure size 792x504 with 1 Axes>"
      ]
     },
     "metadata": {
      "needs_background": "light"
     },
     "output_type": "display_data"
    }
   ],
   "source": [
    "plt.figure(figsize=(11,7)) # 画布，11英寸*7英寸\n",
    "sns.set_palette(\"Blues_d\", n_colors=4)\n",
    "sns.distplot(all_time_array_24,bins=24,kde=False).set_title('Frequency within 24 hours') # 绘图，柱状分布图\n",
    "plt.xlim(0, 24) # x轴\n",
    "\n",
    "\n",
    "sns.set_context(\"poster\",font_scale=1.5) #　文字为海报风格，并放大1.5倍"
   ]
  },
  {
   "cell_type": "markdown",
   "metadata": {},
   "source": [
    "### 年内的弹幕频率分布"
   ]
  },
  {
   "cell_type": "code",
   "execution_count": 61,
   "metadata": {},
   "outputs": [
    {
     "data": {
      "image/png": "[encoded data removed]",
      "text/plain": [
       "<Figure size 792x504 with 1 Axes>"
      ]
     },
     "metadata": {
      "needs_background": "light"
     },
     "output_type": "display_data"
    }
   ],
   "source": [
    "plt.figure(figsize=(11,7))\n",
    "\n",
    "all_time = Danmu_season_df['data_unix']\n",
    "all_time_array = np.array(all_time) + 8*60*60\n",
    "all_time_array_365 = np.floor(all_time_array%(24*60*60*365)/(24*60*60)) #　限制在单年365天\n",
    "plt.xlim(0,366)\n",
    "\n",
    "sns.distplot(all_time_array_365,bins=365,kde=False).set_title('Frequency within 365 Days') # 绘图，直方分布图\n",
    "\n",
    "sns.set_context(\"notebook\",font_scale=1.5)"
   ]
  },
  {
   "cell_type": "code",
   "execution_count": 62,
   "metadata": {},
   "outputs": [],
   "source": [
    "from collections import Counter\n",
    "C_d = Counter(all_time_array_365)"
   ]
  },
  {
   "cell_type": "code",
   "execution_count": 63,
   "metadata": {},
   "outputs": [
    {
     "name": "stdout",
     "output_type": "stream",
     "text": [
      "76.0\n",
      "117.0\n"
     ]
    }
   ],
   "source": [
    "for day, counts in C_d.items():\n",
    "    if counts > 90000:\n",
    "        print(day)\n",
    "\n",
    "# 76： 3月17日\n",
    "# 117：4月27日\n",
    "# 257：9月10日"
   ]
  },
  {
   "cell_type": "markdown",
   "metadata": {},
   "source": [
    "## 5. 观众信息\n",
    "* merge\n",
    "* 性别"
   ]
  },
  {
   "cell_type": "code",
   "execution_count": 64,
   "metadata": {},
   "outputs": [],
   "source": [
    "#Danmu_season_df\n",
    "import pandas as pd"
   ]
  },
  {
   "cell_type": "code",
   "execution_count": 65,
   "metadata": {},
   "outputs": [
    {
     "data": {
      "text/html": [
       "<div>\n",
       "<style scoped>\n",
       "    .dataframe tbody tr th:only-of-type {\n",
       "        vertical-align: middle;\n",
       "    }\n",
       "\n",
       "    .dataframe tbody tr th {\n",
       "        vertical-align: top;\n",
       "    }\n",
       "\n",
       "    .dataframe thead th {\n",
       "        text-align: right;\n",
       "    }\n",
       "</style>\n",
       "<table border=\"1\" class=\"dataframe\">\n",
       "  <thead>\n",
       "    <tr style=\"text-align: right;\">\n",
       "      <th></th>\n",
       "      <th>Unnamed: 0</th>\n",
       "      <th>ID</th>\n",
       "      <th>orig_ID</th>\n",
       "    </tr>\n",
       "  </thead>\n",
       "  <tbody>\n",
       "    <tr>\n",
       "      <th>0</th>\n",
       "      <td>0</td>\n",
       "      <td>1f7dd51a</td>\n",
       "      <td>8976061.0</td>\n",
       "    </tr>\n",
       "    <tr>\n",
       "      <th>1</th>\n",
       "      <td>1</td>\n",
       "      <td>cc108eca</td>\n",
       "      <td>87371356.0</td>\n",
       "    </tr>\n",
       "    <tr>\n",
       "      <th>2</th>\n",
       "      <td>2</td>\n",
       "      <td>83eff729</td>\n",
       "      <td>8961841.0</td>\n",
       "    </tr>\n",
       "    <tr>\n",
       "      <th>3</th>\n",
       "      <td>3</td>\n",
       "      <td>41870812</td>\n",
       "      <td>210120754.0</td>\n",
       "    </tr>\n",
       "    <tr>\n",
       "      <th>4</th>\n",
       "      <td>4</td>\n",
       "      <td>fb64cc6d</td>\n",
       "      <td>6802440.0</td>\n",
       "    </tr>\n",
       "  </tbody>\n",
       "</table>\n",
       "</div>"
      ],
      "text/plain": [
       "   Unnamed: 0        ID      orig_ID\n",
       "0           0  1f7dd51a    8976061.0\n",
       "1           1  cc108eca   87371356.0\n",
       "2           2  83eff729    8961841.0\n",
       "3           3  41870812  210120754.0\n",
       "4           4  fb64cc6d    6802440.0"
      ]
     },
     "execution_count": 65,
     "metadata": {},
     "output_type": "execute_result"
    }
   ],
   "source": [
    "user_info = pd.read_csv('./data/ids_pd235.csv')\n",
    "user_info.head()"
   ]
  },
  {
   "cell_type": "code",
   "execution_count": 66,
   "metadata": {},
   "outputs": [
    {
     "data": {
      "text/html": [
       "<div>\n",
       "<style scoped>\n",
       "    .dataframe tbody tr th:only-of-type {\n",
       "        vertical-align: middle;\n",
       "    }\n",
       "\n",
       "    .dataframe tbody tr th {\n",
       "        vertical-align: top;\n",
       "    }\n",
       "\n",
       "    .dataframe thead th {\n",
       "        text-align: right;\n",
       "    }\n",
       "</style>\n",
       "<table border=\"1\" class=\"dataframe\">\n",
       "  <thead>\n",
       "    <tr style=\"text-align: right;\">\n",
       "      <th></th>\n",
       "      <th>orig_ID</th>\n",
       "      <th>gender</th>\n",
       "    </tr>\n",
       "  </thead>\n",
       "  <tbody>\n",
       "    <tr>\n",
       "      <th>0</th>\n",
       "      <td>8976061.0</td>\n",
       "      <td>a</td>\n",
       "    </tr>\n",
       "    <tr>\n",
       "      <th>1</th>\n",
       "      <td>87371356.0</td>\n",
       "      <td>a</td>\n",
       "    </tr>\n",
       "    <tr>\n",
       "      <th>2</th>\n",
       "      <td>8961841.0</td>\n",
       "      <td>a</td>\n",
       "    </tr>\n",
       "    <tr>\n",
       "      <th>3</th>\n",
       "      <td>210120754.0</td>\n",
       "      <td>a</td>\n",
       "    </tr>\n",
       "    <tr>\n",
       "      <th>4</th>\n",
       "      <td>6802440.0</td>\n",
       "      <td>a</td>\n",
       "    </tr>\n",
       "  </tbody>\n",
       "</table>\n",
       "</div>"
      ],
      "text/plain": [
       "       orig_ID gender\n",
       "0    8976061.0      a\n",
       "1   87371356.0      a\n",
       "2    8961841.0      a\n",
       "3  210120754.0      a\n",
       "4    6802440.0      a"
      ]
     },
     "execution_count": 66,
     "metadata": {},
     "output_type": "execute_result"
    }
   ],
   "source": [
    "user_gender = pd.DataFrame(user_info['orig_ID'])\n",
    "user_gender['gender']=pd.Series('a',index=range(user_info.shape[0]))\n",
    "user_gender.head()"
   ]
  },
  {
   "cell_type": "code",
   "execution_count": 67,
   "metadata": {
    "scrolled": false
   },
   "outputs": [],
   "source": [
    "#随机安排性别\n",
    "import random\n",
    "\n",
    "# for i in range(user_gender.shape[0]):\n",
    "#     if random.random()<0.298:\n",
    "#         user_gender['gender'][i]='Female'\n",
    "#     else:\n",
    "#         user_gender['gender'][i]='Male'\n",
    "    \n",
    "# for i in range(user_gender.shape[0]):\n",
    "#     if str(user_gender['orig_ID'][i])[-3]in ['2','4','6','8','0']:\n",
    "#         user_gender['gender'][i]='Female'\n",
    "#     else:\n",
    "#         user_gender['gender'][i]='Male'"
   ]
  },
  {
   "cell_type": "code",
   "execution_count": 68,
   "metadata": {},
   "outputs": [],
   "source": [
    "# user_info.merge(user_gender, left_on='orig_ID', right_on='orig_ID', how='inner')\n",
    "\n",
    "# Danmu_season_df.merge(user_info,left_on='ID',right_on='ID',how='inner')"
   ]
  },
  {
   "cell_type": "markdown",
   "metadata": {},
   "source": [
    "* 脑筋急转弯"
   ]
  },
  {
   "cell_type": "markdown",
   "metadata": {},
   "source": [
    "- 决策树 特征划分（香农熵）\n",
    "\n",
    "问题： 为什么多分一层，熵就一定下降？\n",
    "\n",
    "我的: 不一定。特征划分不一定会使子数据集的标签处于同一类别下。\n",
    "\n",
    "实际： 一定，极端情况就是完全过拟合。"
   ]
  },
  {
   "cell_type": "markdown",
   "metadata": {},
   "source": [
    "- __Jesson不等式__  "
   ]
  }
 ],
 "metadata": {
  "kernelspec": {
   "display_name": "Python 3",
   "language": "python",
   "name": "python3"
  },
  "language_info": {
   "codemirror_mode": {
    "name": "ipython",
    "version": 3
   },
   "file_extension": ".py",
   "mimetype": "text/x-python",
   "name": "python",
   "nbconvert_exporter": "python",
   "pygments_lexer": "ipython3",
   "version": "3.6.6"
  },
  "toc": {
   "base_numbering": 1,
   "nav_menu": {},
   "number_sections": true,
   "sideBar": true,
   "skip_h1_title": false,
   "title_cell": "Table of Contents",
   "title_sidebar": "Contents",
   "toc_cell": false,
   "toc_position": {
    "height": "calc(100% - 180px)",
    "left": "10px",
    "top": "150px",
    "width": "312px"
   },
   "toc_section_display": true,
   "toc_window_display": true
  }
 },
 "nbformat": 4,
 "nbformat_minor": 2
}
