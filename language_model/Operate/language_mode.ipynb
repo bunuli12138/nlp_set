{
 "cells": [
  {
   "cell_type": "markdown",
   "metadata": {},
   "source": [
    "## 历史以及基操\n",
    "正则表达式 -> 上下文无关语法  -> 统计学派+规则学派 -> 隐马尔可夫  -> 循环神经网络  -> 深度学习有效性  -> Word2Vec（词向量）"
   ]
  },
  {
   "cell_type": "markdown",
   "metadata": {},
   "source": [
    "### 歧义"
   ]
  },
  {
   "cell_type": "markdown",
   "metadata": {},
   "source": [
    "- 词法分析歧义、语法分析歧义、语义分析歧义、NLP实际应用歧义（如语音识别）     \n",
    "口语处理、分词处理、新词语产生、上下文知识、实体词   \n",
    "***\n",
    "- 1.词汇表， 字符表\n",
    "- 2.句子或词语概率分布等级并由此引出字后面某字的概率（贝叶斯链式法则）"
   ]
  },
  {
   "cell_type": "markdown",
   "metadata": {},
   "source": [
    "### 语言模型"
   ]
  },
  {
   "cell_type": "markdown",
   "metadata": {},
   "source": [
    "- 一阶马尔科夫模型（当前随机变量取值只与上一时刻有关）\n",
    "    - 句子中某个字只与前面一个字或词有关\n",
    "- 二阶马尔科夫模型（当前随机变量取值只与上两时刻有关）\n",
    "    - 句子中某个字只与前面2个字或词有关\n",
    "- 可变长序列（句子长度是随机），定义停止状态符号和开始状态符号\n",
    "- 三元语言模型 (N^3)\n",
    "\n",
    "```\n",
    "句子： **我是中国人<s>\n",
    "模型： p(我是中国人<s>)=q(我|*，*)q(是|我，*)...q(<s>|国，人)\n",
    "```\n",
    "- 极大似然估计             \n",
    "参数： q(w|u,v)                  \n",
    "MLE: q(w|u,v) = Count(w,u,v) / Count(u,v) -> q(人|国,中) = Count(中,国,人) / Count(国,人)            \n",
    "- 语言模型评价：迷惑度      \n",
    "    - 测试集： m个句子$s_1,s_2,...,s_m$             \n",
    "    - log概率：    大\n",
    "        - $log \\prod_{i=0}^mp(s_i) = \\sum_{i=1}^mlog(p(s_i))$           \n",
    "    - perplexity： 小\n",
    "        - $Perplexity = 2^{-l}$   \n",
    "        - $l = \\frac{1}{M}\\sum_{i=1}^mlog(p(s_i))$ _M是测试集总词量_"
   ]
  },
  {
   "cell_type": "code",
   "execution_count": null,
   "metadata": {},
   "outputs": [],
   "source": []
  }
 ],
 "metadata": {
  "kernelspec": {
   "display_name": "Python 3",
   "language": "python",
   "name": "python3"
  },
  "language_info": {
   "codemirror_mode": {
    "name": "ipython",
    "version": 3
   },
   "file_extension": ".py",
   "mimetype": "text/x-python",
   "name": "python",
   "nbconvert_exporter": "python",
   "pygments_lexer": "ipython3",
   "version": "3.6.6"
  },
  "toc": {
   "base_numbering": 1,
   "nav_menu": {},
   "number_sections": true,
   "sideBar": true,
   "skip_h1_title": false,
   "title_cell": "Table of Contents",
   "title_sidebar": "Contents",
   "toc_cell": false,
   "toc_position": {},
   "toc_section_display": true,
   "toc_window_display": true
  }
 },
 "nbformat": 4,
 "nbformat_minor": 2
}
