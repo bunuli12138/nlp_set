{
 "cells": [
  {
   "cell_type": "markdown",
   "metadata": {},
   "source": [
    "## 历史以及基操\n",
    "正则表达式 -> 上下文无关语法  -> 统计学派+规则学派 -> 隐马尔可夫  -> 循环神经网络  -> 深度学习有效性  -> Word2Vec（词向量）"
   ]
  },
  {
   "cell_type": "markdown",
   "metadata": {},
   "source": [
    "### 歧义"
   ]
  },
  {
   "cell_type": "markdown",
   "metadata": {},
   "source": [
    "- 词法分析歧义、语法分析歧义、语义分析歧义、NLP实际应用歧义（如语音识别）     \n",
    "口语处理、分词处理、新词语产生、上下文知识、实体词   \n",
    "***\n",
    "- 1.词汇表， 字符表\n",
    "- 2.句子或词语概率分布等级并由此引出字后面某字的概率（贝叶斯链式法则）"
   ]
  },
  {
   "cell_type": "markdown",
   "metadata": {},
   "source": [
    "### 语言模型"
   ]
  },
  {
   "cell_type": "markdown",
   "metadata": {},
   "source": [
    "- 一阶马尔科夫模型（当前随机变量取值只与上一时刻有关）\n",
    "    - 句子中某个字只与前面一个字或词有关\n",
    "- 二阶马尔科夫模型（当前随机变量取值只与上两时刻有关）\n",
    "    - 句子中某个字只与前面2个字或词有关\n",
    "- 可变长序列（句子长度是随机），定义停止状态符号和开始状态符号\n",
    "- 三元语言模型 (N^3)   \n",
    "\n",
    "```\n",
    "句子： **我是中国人<s>\n",
    "模型： p(我是中国人<s>)=q(我|*，*)q(是|我，*)...q(<s>|国，人)\n",
    "```\n",
    "- 极大似然估计 \n",
    "```\n",
    "参数： q(w|u,v)                  \n",
    "MLE: q(w|u,v) = Count(w,u,v) / Count(u,v) -> q(人|国,中) = Count(中,国,人) / Count(国,人)   \n",
    "```\n",
    "- EM算法  \n",
    "```\n",
    "```\n",
    "- 语言模型评价：迷惑度      \n",
    "    - 测试集： m个句子$s_1,s_2,...,s_m$             \n",
    "    - log概率：    大\n",
    "        $$log \\prod_{i=0}^mp(s_i) = \\sum_{i=1}^mlog(p(s_i))$$           \n",
    "    - perplexity： 小\n",
    "        $$Perplexity = 2^{-l}$$   \n",
    "        $$l = \\frac{1}{M}\\sum_{i=1}^mlog(p(s_i)),M是测试集总词量$$ "
   ]
  },
  {
   "cell_type": "markdown",
   "metadata": {},
   "source": [
    "***\n",
    "- 稀疏性问题（语料库有限，语料库不存在某个词而导致实体词等被划分）    \n",
    "    - 线性插值平滑\n",
    "        - 高元n-gram模型没有足够数据时，改用低元n-gram模型进行概率估计         \n",
    "        $$\\hat{q}(w|u,v) = \\lambda_3q(w|u,v) + \\lambda_2q(w|u) + \\lambda_1q(w)$$\n",
    "        $$sum_i\\lambda_i = 1$$           \n",
    "        - hold-out数据交叉检验\n",
    "    - 拉普拉斯平滑\n",
    "        $$q(w|u) = \\frac{c(w|u)+1}{c(w)+L}$$(L是所有训练集biggram的个数)\n",
    "    \n",
    "-  解码问题\n",
    "    - 动态规划（?）\n",
    "    \n",
    "    - Viterbi算法\n",
    "   ![avatar](../Img/viterbi.png)\n",
    "   ![avatar](../Img/viterbi_show.png)"
   ]
  },
  {
   "cell_type": "markdown",
   "metadata": {},
   "source": [
    "***\n",
    "- 隐马尔卡夫模型HMM ---> 序列到序列的问题\n",
    "    - 词性标注        \n",
    "     ```\n",
    "     in: 我是中国人       \n",
    "     out: 我/n是/v中国人/n \n",
    "     ```\n",
    "    - 命名实体识别(NER)          \n",
    "    ```\n",
    "    in: 大摩维持阿里巴巴的增持评级               \n",
    "    out: 大摩/[Company]维持阿里巴巴/[Company]的增持评级\n",
    "    ```\n",
    "    - 模型参数        (参数数量： $M^2$ + $NM$)       \n",
    "    $$词性序列二元马尔科夫链：q(s|u) (s\\in S \\bigcup \\{<S>\\}, u\\in S \\bigcup \\{*\\})---> M^2$$      \n",
    "    $$词性与词语条件概率：e(x|s) (s\\in S, x\\in V) ---> NM$$  "
   ]
  },
  {
   "cell_type": "markdown",
   "metadata": {},
   "source": [
    "### 神经语言模型 -词向量\n",
    "参看论文：[A Neural Probabilistic Language Model, Yoshua Bengio,etc](https://wenku.baidu.com/view/82925cbba76e58fafbb0030a.html)        \n",
    "解释文章：[A Neural Probabilistic Language Model 论文阅读及实战](https://www.jianshu.com/p/be242ed3f314)      \n",
    "![avatar](../Img/NLM.png)"
   ]
  },
  {
   "cell_type": "markdown",
   "metadata": {},
   "source": [
    "### 递归神经网络 RNN\n",
    "参看论文： [Bidirection LSTM-CRF Models for Sequence Tagging, Zhiheng Huang, etc](https://www.docin.com/p-1652883441.html)       \n",
    "解释文章： [【论文学习】Bidirectional LSTM-CRF Models for Sequence Tagging（论文翻译）](https://blog.csdn.net/Elvira521yan/article/details/88415512)              \n",
    "![avatar](../Img/LSTM.png)"
   ]
  },
  {
   "cell_type": "markdown",
   "metadata": {},
   "source": [
    "##  操作"
   ]
  },
  {
   "cell_type": "code",
   "execution_count": 1,
   "metadata": {},
   "outputs": [],
   "source": [
    "import jieba\n",
    "import re                                         # 寻找中文句子\n",
    "import copy                                       # 类的复制\n",
    "from sklearn.preprocessing import LabelEncoder    # 映射为整数\n",
    "from collections import OrderedDict\n",
    "\n",
    "import numpy as np\n",
    "import pandas as pd"
   ]
  },
  {
   "cell_type": "code",
   "execution_count": 52,
   "metadata": {},
   "outputs": [
    {
     "name": "stdout",
     "output_type": "stream",
     "text": [
      "《红楼梦》曹雪芹\r\n",
      "\r\n",
      "严正声明：本书为丫丫小说网(www.shuyaya.com)的用户上传至其在本站的存储空间，本站只提供TXT全集电子书存储服务以及免费下载服务，以下作品内容之版权与本站无任何关系。\r\n",
      "在线阅读：http://www.shuyaya.com/read/2034/\r\n",
      "--------------------------------------------------\r\n",
      "\r\n",
      "第一回  甄士隐梦幻识通灵　贾雨村风尘怀闺秀\r\n",
      "\r\n",
      "    \t\t\r\n",
      "\r\n",
      "    此开卷第一回也．作者自云：因曾历过一番梦幻之后，故将真事隐去，而借\"通灵\"之说，撰此《石头记》一书也．故曰\"甄士隐\"云云．但\n"
     ]
    }
   ],
   "source": [
    "with open('../Data/DRM.txt','rb')as f:\n",
    "    print(f.read().decode('utf-8')[:300])"
   ]
  },
  {
   "cell_type": "markdown",
   "metadata": {},
   "source": [
    "### 分句"
   ]
  },
  {
   "cell_type": "code",
   "execution_count": 66,
   "metadata": {},
   "outputs": [
    {
     "data": {
      "text/plain": [
       "['《红楼梦》曹雪芹',\n",
       " '严正声明：本书为丫丫小说网(www.shuyaya.com)的用户上传至其在本站的存储空间，本站只提供TXT全集电子书存储服务以及免费下载服务，以下作品内容之版权与本站无任何关系。',\n",
       " '在线阅读：http://www.shuyaya.com/read/2034/',\n",
       " '--------------------------------------------------',\n",
       " '第一回  甄士隐梦幻识通灵\\u3000贾雨村风尘怀闺秀']"
      ]
     },
     "execution_count": 66,
     "metadata": {},
     "output_type": "execute_result"
    }
   ],
   "source": [
    "# 断句\n",
    "lst_sectences = []                                                   # 文章划分为句子的列表\n",
    "# str_puntCode = '.!?~． 。！？～\\n'                                   # 句子终结符号串，判断句子是否结束\n",
    "str_puntCode = \"。！？!?\\n\\r\"\n",
    "start,i  = 0, 1\n",
    "\n",
    "with open('../Data/DRM.txt','rb')as f:\n",
    "    str_Text = f.read().decode('utf-8')\n",
    "    str_Text += 's'\n",
    "    assert type(str_Text)==str, \"'str_Text' is not string\"      # 检查正文读取的格式\n",
    "    for i in range(len(str_Text)-1):\n",
    "        # 句子结束\n",
    "        if str_Text[i] in str_puntCode and str_Text[i+1] not in str_puntCode:\n",
    "            lst_sectences.append(str_Text[start:i+1].strip())\n",
    "            start = i+1                                                  # 开始指针指向结束符后，新起一句\n",
    "            i += 1\n",
    "        # 有内容\n",
    "        else:\n",
    "            i += 1\n",
    "            \n",
    "lst_sectences[:5]"
   ]
  },
  {
   "cell_type": "code",
   "execution_count": 70,
   "metadata": {},
   "outputs": [],
   "source": [
    "# 只保留中文并存储到新文件中\n",
    "filter_re = re.compile(u'[^\\u4E00-\\u9FA5]')            # 只保留中文\n",
    "\n",
    "with open('../Data/cleaned_DRM.txt', 'w') as f:\n",
    "    for s in lst_sectences:\n",
    "        cleaned_s = filter_re.sub(r'', s)             # 裁剪中文句子\n",
    "        if len(cleaned_s) :\n",
    "            f.write(cleaned_s+'\\n')"
   ]
  },
  {
   "cell_type": "code",
   "execution_count": 73,
   "metadata": {},
   "outputs": [
    {
     "name": "stdout",
     "output_type": "stream",
     "text": [
      "红楼梦曹雪芹\n",
      "\n",
      "严正声明本书为丫丫小说网的用户上传至其在本站的存储空间本站只提供全集电子书存储服务以及免费下载服务以下作品内容之版权与本站无任何关系\n",
      "\n",
      "在线阅读\n",
      "\n",
      "第一回甄士隐梦幻识通灵贾雨村风尘怀闺秀\n",
      "\n",
      "此开卷第一回也作者自云因曾历过一番梦幻之后故将真事隐去而借通灵之说撰此石头记一书也故曰甄士隐云云但书中所记何事何人\n",
      "\n",
      "自又云今风尘碌碌一事无成忽念及当日所有之女子一一细考较去觉其行止见识皆出于我之上何我堂堂须眉诚不若彼裙钗哉\n",
      "\n"
     ]
    }
   ],
   "source": [
    "# 检查实际文本\n",
    "i = 0\n",
    "with open('../Data/cleaned_DRM.txt', 'r') as f:\n",
    "    for l in f:\n",
    "        if i >5:  break\n",
    "        print(l)\n",
    "        i += 1"
   ]
  },
  {
   "cell_type": "markdown",
   "metadata": {},
   "source": [
    "### 语言模型"
   ]
  },
  {
   "cell_type": "code",
   "execution_count": null,
   "metadata": {},
   "outputs": [],
   "source": []
  },
  {
   "cell_type": "code",
   "execution_count": null,
   "metadata": {},
   "outputs": [],
   "source": []
  }
 ],
 "metadata": {
  "kernelspec": {
   "display_name": "Python 3",
   "language": "python",
   "name": "python3"
  },
  "language_info": {
   "codemirror_mode": {
    "name": "ipython",
    "version": 3
   },
   "file_extension": ".py",
   "mimetype": "text/x-python",
   "name": "python",
   "nbconvert_exporter": "python",
   "pygments_lexer": "ipython3",
   "version": "3.6.6"
  },
  "toc": {
   "base_numbering": 1,
   "nav_menu": {},
   "number_sections": true,
   "sideBar": true,
   "skip_h1_title": false,
   "title_cell": "Table of Contents",
   "title_sidebar": "Contents",
   "toc_cell": false,
   "toc_position": {},
   "toc_section_display": true,
   "toc_window_display": true
  }
 },
 "nbformat": 4,
 "nbformat_minor": 2
}
