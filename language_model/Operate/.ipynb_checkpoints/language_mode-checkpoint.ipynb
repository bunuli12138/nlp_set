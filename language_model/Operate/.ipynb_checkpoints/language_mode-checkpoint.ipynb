{
 "cells": [
  {
   "cell_type": "markdown",
   "metadata": {},
   "source": [
    "## 历史以及基操\n",
    "正则表达式 -> 上下文无关语法  -> 统计学派+规则学派 -> 隐马尔可夫  -> 循环神经网络  -> 深度学习有效性  -> Word2Vec（词向量）"
   ]
  },
  {
   "cell_type": "markdown",
   "metadata": {},
   "source": [
    "### 歧义"
   ]
  },
  {
   "cell_type": "markdown",
   "metadata": {},
   "source": [
    "- 词法分析歧义、语法分析歧义、语义分析歧义、NLP实际应用歧义（如语音识别）     \n",
    "口语处理、分词处理、新词语产生、上下文知识、实体词   \n",
    "***\n",
    "- 1.词汇表， 字符表\n",
    "- 2.句子或词语概率分布等级并由此引出字后面某字的概率（贝叶斯链式法则）"
   ]
  },
  {
   "cell_type": "markdown",
   "metadata": {},
   "source": [
    "### 语言模型"
   ]
  },
  {
   "cell_type": "markdown",
   "metadata": {},
   "source": [
    "- 一阶马尔科夫模型（当前随机变量取值只与上一时刻有关）\n",
    "    - 句子中某个字只与前面一个字或词有关\n",
    "- 二阶马尔科夫模型（当前随机变量取值只与上两时刻有关）\n",
    "    - 句子中某个字只与前面2个字或词有关\n",
    "- 可变长序列（句子长度是随机），定义停止状态符号和开始状态符号\n",
    "- 三元语言模型 (N^3)   \n",
    "\n",
    "```\n",
    "句子： **我是中国人<s>\n",
    "模型： p(我是中国人<s>)=q(我|*，*)q(是|我，*)...q(<s>|国，人)\n",
    "```"
   ]
  },
  {
   "cell_type": "markdown",
   "metadata": {},
   "source": [
    "- 极大似然估计 \n",
    "```\n",
    "参数： q(w|u,v)                  \n",
    "MLE: q(w|u,v) = Count(w,u,v) / Count(u,v) -> q(人|国,中) = Count(中,国,人) / Count(国,人)   \n",
    "```\n",
    "- EM算法  \n",
    "```\n",
    "```\n",
    "- 语言模型评价：迷惑度      \n",
    "    - 测试集： m个句子$s_1,s_2,...,s_m$             \n",
    "    - log概率：    大\n",
    "        $$log \\prod_{i=0}^mp(s_i) = \\sum_{i=1}^mlog(p(s_i))$$           \n",
    "    - perplexity： 小\n",
    "        $$Perplexity = 2^{-l}$$   \n",
    "        $$l = \\frac{1}{M}\\sum_{i=1}^mlog(p(s_i)),M是测试集总词量$$ "
   ]
  },
  {
   "cell_type": "markdown",
   "metadata": {},
   "source": [
    "***\n",
    "- 稀疏性问题（语料库有限，语料库不存在某个词而导致实体词等被划分）    \n",
    "    - 线性插值平滑\n",
    "        - 高元n-gram模型没有足够数据时，改用低元n-gram模型进行概率估计         \n",
    "        $$\\hat{q}(w|u,v) = \\lambda_3q(w|u,v) + \\lambda_2q(w|u) + \\lambda_1q(w)$$\n",
    "        $$sum_i\\lambda_i = 1$$           \n",
    "        - hold-out数据交叉检验\n",
    "    - 拉普拉斯平滑\n",
    "        $$q(w|u) = \\frac{c(w|u)+1}{c(w)+L}$$(L是所有训练集biggram的个数)\n",
    "    \n",
    "-  解码问题\n",
    "    - 动态规划（?）\n",
    "    \n",
    "    - Viterbi算法\n",
    "   ![avatar](../Img/viterbi.png)\n",
    "   ![avatar](../Img/viterbi_show.png)"
   ]
  },
  {
   "cell_type": "markdown",
   "metadata": {},
   "source": [
    "***\n",
    "- 隐马尔卡夫模型HMM ---> 序列到序列的问题\n",
    "    - 词性标注        \n",
    "     ```\n",
    "     in: 我是中国人       \n",
    "     out: 我/n是/v中国人/n \n",
    "     ```\n",
    "    - 命名实体识别(NER)          \n",
    "    ```\n",
    "    in: 大摩维持阿里巴巴的增持评级               \n",
    "    out: 大摩/[Company]维持阿里巴巴/[Company]的增持评级\n",
    "    ```\n",
    "    - 模型参数        (参数数量： $M^2$ + $NM$)       \n",
    "    $$词性序列二元马尔科夫链：q(s|u) (s\\in S \\bigcup \\{<S>\\}, u\\in S \\bigcup \\{*\\})---> M^2$$      \n",
    "    $$词性与词语条件概率：e(x|s) (s\\in S, x\\in V) ---> NM$$  "
   ]
  },
  {
   "cell_type": "markdown",
   "metadata": {},
   "source": [
    "### 神经语言模型 -词向量\n",
    "参看论文：[A Neural Probabilistic Language Model, Yoshua Bengio,etc](https://wenku.baidu.com/view/82925cbba76e58fafbb0030a.html)        \n",
    "解释文章：[A Neural Probabilistic Language Model 论文阅读及实战](https://www.jianshu.com/p/be242ed3f314)      \n",
    "![avatar](../Img/NLM.png)"
   ]
  },
  {
   "cell_type": "markdown",
   "metadata": {},
   "source": [
    "### 递归神经网络 RNN\n",
    "参看论文： [Bidirection LSTM-CRF Models for Sequence Tagging, Zhiheng Huang, etc](https://www.docin.com/p-1652883441.html)       \n",
    "解释文章： [【论文学习】Bidirectional LSTM-CRF Models for Sequence Tagging（论文翻译）](https://blog.csdn.net/Elvira521yan/article/details/88415512)              \n",
    "![avatar](../Img/LSTM.png)"
   ]
  },
  {
   "cell_type": "markdown",
   "metadata": {},
   "source": [
    "##  操作"
   ]
  },
  {
   "cell_type": "code",
   "execution_count": 2,
   "metadata": {},
   "outputs": [],
   "source": [
    "import jieba\n",
    "import re                                         # 寻找中文句子\n",
    "import copy                                       # 类的复制\n",
    "from sklearn.preprocessing import LabelEncoder    # 映射为整数\n",
    "from collections import OrderedDict               # list of tuple 2 params 转为 字典\n",
    "from sklearn.model_selection import train_test_split\n",
    "\n",
    "import numpy as np\n",
    "import pandas as pd\n",
    "\n",
    "import matplotlib.pyplot as plt                    \n",
    "import seaborn as sns\n",
    "%matplotlib inline"
   ]
  },
  {
   "cell_type": "code",
   "execution_count": 3,
   "metadata": {},
   "outputs": [
    {
     "name": "stdout",
     "output_type": "stream",
     "text": [
      "《红楼梦》曹雪芹\r\n",
      "\r\n",
      "严正声明：本书为丫丫小说网(www.shuyaya.com)的用户上传至其在本站的存储空间，本站只提供TXT全集电子书存储服务以及免费下载服务，以下作品内容之版权与本站无任何关系。\r\n",
      "在线阅读：http://www.shuyaya.com/read/2034/\r\n",
      "--------------------------------------------------\r\n",
      "\r\n",
      "第一回  甄士隐梦幻识通灵　贾雨村风尘怀闺秀\r\n",
      "\r\n",
      "    \t\t\r\n",
      "\r\n",
      "    此开卷第一回也．作者自云：因曾历过一番梦幻之后，故将真事隐去，而借\"通灵\"之说，撰此《石头记》一书也．故曰\"甄士隐\"云云．但\n"
     ]
    }
   ],
   "source": [
    "with open('../Data/DRM.txt','rb')as f:\n",
    "    print(f.read().decode('utf-8')[:300])"
   ]
  },
  {
   "cell_type": "markdown",
   "metadata": {},
   "source": [
    "### 分句"
   ]
  },
  {
   "cell_type": "code",
   "execution_count": 66,
   "metadata": {},
   "outputs": [
    {
     "data": {
      "text/plain": [
       "['《红楼梦》曹雪芹',\n",
       " '严正声明：本书为丫丫小说网(www.shuyaya.com)的用户上传至其在本站的存储空间，本站只提供TXT全集电子书存储服务以及免费下载服务，以下作品内容之版权与本站无任何关系。',\n",
       " '在线阅读：http://www.shuyaya.com/read/2034/',\n",
       " '--------------------------------------------------',\n",
       " '第一回  甄士隐梦幻识通灵\\u3000贾雨村风尘怀闺秀']"
      ]
     },
     "execution_count": 66,
     "metadata": {},
     "output_type": "execute_result"
    }
   ],
   "source": [
    "# 断句\n",
    "lst_sectences = []                                                   # 文章划分为句子的列表\n",
    "# str_puntCode = '.!?~． 。！？～\\n'                                   # 句子终结符号串，判断句子是否结束\n",
    "str_puntCode = \"。！？!?\\n\\r\"\n",
    "start,i  = 0, 1\n",
    "\n",
    "with open('../Data/DRM.txt','rb')as f:\n",
    "    str_Text = f.read().decode('utf-8')\n",
    "    str_Text += 's'\n",
    "    assert type(str_Text)==str, \"'str_Text' is not string\"      # 检查正文读取的格式\n",
    "    for i in range(len(str_Text)-1):\n",
    "        # 句子结束\n",
    "        if str_Text[i] in str_puntCode and str_Text[i+1] not in str_puntCode:\n",
    "            lst_sectences.append(str_Text[start:i+1].strip())\n",
    "            start = i+1                                                  # 开始指针指向结束符后，新起一句\n",
    "            i += 1\n",
    "        # 有内容\n",
    "        else:\n",
    "            i += 1\n",
    "            \n",
    "lst_sectences[:5]"
   ]
  },
  {
   "cell_type": "code",
   "execution_count": 70,
   "metadata": {},
   "outputs": [],
   "source": [
    "# 只保留中文并存储到新文件中\n",
    "filter_re = re.compile(u'[^\\u4E00-\\u9FA5]')            # 只保留中文\n",
    "\n",
    "with open('../Data/cleaned_DRM.txt', 'w') as f:\n",
    "    for s in lst_sectences:\n",
    "        cleaned_s = filter_re.sub(r'', s)             # 裁剪中文句子s，不符合的部分设为空\n",
    "        if len(cleaned_s) :                           # 空行直接删除\n",
    "            f.write(cleaned_s+'\\n')"
   ]
  },
  {
   "cell_type": "code",
   "execution_count": 73,
   "metadata": {},
   "outputs": [
    {
     "name": "stdout",
     "output_type": "stream",
     "text": [
      "红楼梦曹雪芹\n",
      "\n",
      "严正声明本书为丫丫小说网的用户上传至其在本站的存储空间本站只提供全集电子书存储服务以及免费下载服务以下作品内容之版权与本站无任何关系\n",
      "\n",
      "在线阅读\n",
      "\n",
      "第一回甄士隐梦幻识通灵贾雨村风尘怀闺秀\n",
      "\n",
      "此开卷第一回也作者自云因曾历过一番梦幻之后故将真事隐去而借通灵之说撰此石头记一书也故曰甄士隐云云但书中所记何事何人\n",
      "\n",
      "自又云今风尘碌碌一事无成忽念及当日所有之女子一一细考较去觉其行止见识皆出于我之上何我堂堂须眉诚不若彼裙钗哉\n",
      "\n"
     ]
    }
   ],
   "source": [
    "# 检查实际文本\n",
    "i = 0\n",
    "with open('../Data/cleaned_DRM.txt', 'r') as f:\n",
    "    for l in f:\n",
    "        if i >5:  break\n",
    "        print(l)\n",
    "        i += 1"
   ]
  },
  {
   "cell_type": "markdown",
   "metadata": {},
   "source": [
    "### jieba分词"
   ]
  },
  {
   "cell_type": "code",
   "execution_count": 4,
   "metadata": {},
   "outputs": [
    {
     "data": {
      "text/plain": [
       "['红楼梦曹雪芹',\n",
       " '严正声明本书为丫丫小说网的用户上传至其在本站的存储空间本站只提供全集电子书存储服务以及免费下载服务以下作品内容之版权与本站无任何关系',\n",
       " '在线阅读',\n",
       " '第一回甄士隐梦幻识通灵贾雨村风尘怀闺秀',\n",
       " '此开卷第一回也作者自云因曾历过一番梦幻之后故将真事隐去而借通灵之说撰此石头记一书也故曰甄士隐云云但书中所记何事何人',\n",
       " '自又云今风尘碌碌一事无成忽念及当日所有之女子一一细考较去觉其行止见识皆出于我之上何我堂堂须眉诚不若彼裙钗哉',\n",
       " '实愧则有余悔又无益之大无可如何之日也',\n",
       " '当此则自欲将已往所赖天恩祖德锦衣纨绔之时饫甘餍肥之日背父兄教育之恩负师友规谈之德以至今日一技无成半生潦倒之罪编述一集以告天下人我之罪固不免然闺阁中本自历历有人万不可因我之不肖自护己短一并使其泯灭也虽今日之茅椽蓬牖瓦灶绳床其晨夕风露阶柳庭花亦未有妨我之襟怀笔墨者虽我未学下笔无文又何妨用假语村言敷演出一段故事来亦可使闺阁昭传复可悦世之目破人愁闷不亦宜乎',\n",
       " '故曰贾雨村云云',\n",
       " '此回中凡用梦用幻等字是提醒阅者眼目亦是此书立意本旨']"
      ]
     },
     "execution_count": 4,
     "metadata": {},
     "output_type": "execute_result"
    }
   ],
   "source": [
    "lst_cleanedText = []\n",
    "with open('../Data/cleaned_DRM.txt', 'r') as f:\n",
    "    for l in f:\n",
    "        lst_cleanedText.append(l.strip())                   # 去除行尾的空格换行符\n",
    "\n",
    "lst_cleanedText[:10]"
   ]
  },
  {
   "cell_type": "code",
   "execution_count": 5,
   "metadata": {},
   "outputs": [
    {
     "name": "stderr",
     "output_type": "stream",
     "text": [
      "Building prefix dict from the default dictionary ...\n",
      "Loading model from cache C:\\Users\\ADMINI~1\\AppData\\Local\\Temp\\jieba.cache\n",
      "Loading model cost 2.152 seconds.\n",
      "Prefix dict has been built succesfully.\n"
     ]
    },
    {
     "data": {
      "text/plain": [
       "[['红楼梦', '曹雪芹'],\n",
       " ['严正声明',\n",
       "  '本书',\n",
       "  '为',\n",
       "  '丫丫',\n",
       "  '小说网',\n",
       "  '的',\n",
       "  '用户',\n",
       "  '上传',\n",
       "  '至',\n",
       "  '其',\n",
       "  '在',\n",
       "  '本站',\n",
       "  '的',\n",
       "  '存储空间',\n",
       "  '本站',\n",
       "  '只',\n",
       "  '提供',\n",
       "  '全集',\n",
       "  '电子书',\n",
       "  '存储',\n",
       "  '服务',\n",
       "  '以及',\n",
       "  '免费',\n",
       "  '下载',\n",
       "  '服务',\n",
       "  '以下',\n",
       "  '作品',\n",
       "  '内容',\n",
       "  '之',\n",
       "  '版权',\n",
       "  '与',\n",
       "  '本站',\n",
       "  '无',\n",
       "  '任何',\n",
       "  '关系'],\n",
       " ['在线', '阅读']]"
      ]
     },
     "execution_count": 5,
     "metadata": {},
     "output_type": "execute_result"
    }
   ],
   "source": [
    "# jieba分词列表\n",
    "lst_cutWrords = [list(jieba.cut(s)) for s in lst_cleanedText]\n",
    "\n",
    "lst_cutWrords[:3]"
   ]
  },
  {
   "cell_type": "markdown",
   "metadata": {},
   "source": [
    "### 语言模型展示\n",
    "```python\n",
    "test_lst_cutwords = [['红楼梦', '曹雪芹'],\n",
    "                    ['严正声明','本书','为','丫丫','小说网','的','用户','上传','至','其','在','本站','的'],\n",
    "                     ['在线', '阅读']]\n",
    "```"
   ]
  },
  {
   "cell_type": "markdown",
   "metadata": {},
   "source": [
    "#### ngram提取"
   ]
  },
  {
   "cell_type": "code",
   "execution_count": 6,
   "metadata": {},
   "outputs": [
    {
     "name": "stdout",
     "output_type": "stream",
     "text": [
      "('列位', '看官')\n",
      "('看官', '你')\n",
      "('你', '道')\n",
      "('道', '此书')\n",
      "('此书', '从何而来')\n",
      "('列位',)\n",
      "('看官',)\n",
      "('你',)\n",
      "('道',)\n",
      "('此书',)\n",
      "('从何而来',)\n"
     ]
    }
   ],
   "source": [
    "# 提取句中n元词组成list(无前缀和后缀)\n",
    "method_generateNgrams = lambda sentence, n : zip(*[sentence[i:] for i in range(n)])\n",
    "\n",
    "# 检查方法效果\n",
    "for bigram in method_generateNgrams(lst_cutWrords[10], 2):\n",
    "    print (bigram)\n",
    "for unigram in method_generateNgrams(lst_cutWrords[10], 1):\n",
    "    print( unigram)\n",
    "    \n"
   ]
  },
  {
   "cell_type": "code",
   "execution_count": 32,
   "metadata": {},
   "outputs": [
    {
     "name": "stdout",
     "output_type": "stream",
     "text": [
      "[[('*', '*', '红楼梦'), ('*', '红楼梦', '曹雪芹'), ('红楼梦', '曹雪芹', '#')], [('*', '*', '在线'), ('*', '在线', '阅读'), ('在线', '阅读', '#')]]\n"
     ]
    }
   ],
   "source": [
    "def get_nGramsModel(list_cutWords, int_nGram):\n",
    "    list__nGramsModel = []\n",
    "    sec = []\n",
    "    for sentece in list_cutWords:\n",
    "        sec = []\n",
    "        # 前缀加上n个起始符号\n",
    "        for i in range(int_nGram-1):\n",
    "            sec.append('*')\n",
    "        sec.extend(sentece)\n",
    "        # 后缀加上一个结束符号\n",
    "        sec.append('#')\n",
    "        \n",
    "        sec = list(method_generateNgrams(sec, int_nGram))\n",
    "        \n",
    "        list__nGramsModel.append(sec)\n",
    "    \n",
    "    return list__nGramsModel\n",
    "\n",
    "# test 'get_nGramsModel' method\n",
    "test_lst_cutwords = [['红楼梦', '曹雪芹'],\n",
    "                     ['在线', '阅读']]\n",
    "print(get_nGramsModel(test_lst_cutwords, 3))"
   ]
  },
  {
   "cell_type": "code",
   "execution_count": 7,
   "metadata": {},
   "outputs": [],
   "source": [
    "# 自定义方法，给n元及以上的模型句子加上n个起始符号、1个结束符号，并组成ngram模型\n",
    "def ngrams_parameter_estimate(sentences, n):\n",
    "    sentences_copy = copy.deepcopy(sentences)\n",
    "    ngrams_dict = {}\n",
    "    num_ngrams = 0\n",
    "    for words in sentences_copy:\n",
    "        # ngram 加上n个起始符号\n",
    "        for i in range(n-1):\n",
    "            words.insert(0, '*')\n",
    "        words.append('#')\n",
    "        ngrams = method_generateNgrams(words, n)                                    # 组成ngram\n",
    "        for ngram in ngrams:\n",
    "            ngrams_dict[ngram] = ngrams_dict.get(ngram, 0.0) + 1.0            # 没有‘ngram’项则初始化为0.0\n",
    "            num_ngrams += 1                                                   # 统计ngram 对应数量\n",
    "\n",
    "    return ngrams_dict, num_ngrams"
   ]
  },
  {
   "cell_type": "code",
   "execution_count": 8,
   "metadata": {},
   "outputs": [],
   "source": [
    "# 计算ngram模型概率\n",
    "def calculate_sentence_log_probability(sentence, n, num_grams, ngrams_dict, n_1grams_dict=None):\n",
    "#     assert len(ngrams_dict.keys()[0]) == n, n\n",
    "    if n_1grams_dict is None: assert n == 1\n",
    "        \n",
    "    ngrams = generate_ngrams(sentence, n)\n",
    "    log_prob, has_unknown_ngram = 0.0, False\n",
    "    for ngram in ngrams:\n",
    "        if ngram in ngrams_dict:\n",
    "            if n == 1:\n",
    "                log_prob += np.log2(ngrams_dict[ngram]/num_grams)\n",
    "            else:\n",
    "                log_prob += np.log2(ngrams_dict[ngram]/n_1grams_dict[ngram[:n-1]])\n",
    "        else:\n",
    "            has_unknown_ngram = True\n",
    "    return 0.0 if has_unknown_ngram else log_prob"
   ]
  },
  {
   "cell_type": "markdown",
   "metadata": {},
   "source": [
    "##### unigram"
   ]
  },
  {
   "cell_type": "code",
   "execution_count": 9,
   "metadata": {},
   "outputs": [
    {
     "name": "stdout",
     "output_type": "stream",
     "text": [
      "[('红楼梦',), ('曹雪芹',), ('#',), ('严正声明',), ('本书',), ('为',), ('丫丫',), ('小说网',), ('的',), ('用户',)]\n",
      "465936\n"
     ]
    }
   ],
   "source": [
    "dict_unigrams, n_unigrams = ngrams_parameter_estimate(lst_cutWrords, 1)              # 一元\n",
    "print(list(dict_unigrams.keys())[:10])\n",
    "print(n_unigrams)"
   ]
  },
  {
   "cell_type": "code",
   "execution_count": 10,
   "metadata": {},
   "outputs": [
    {
     "name": "stdout",
     "output_type": "stream",
     "text": [
      "[(19613.0, ('了',)), (15799.0, ('#',)), (14114.0, ('的',)), (7252.0, ('我',)), (6298.0, ('他',)), (6052.0, ('道',)), (5824.0, ('说',)), (5794.0, ('你',)), (5748.0, ('是',)), (5631.0, ('也',))]\n"
     ]
    }
   ],
   "source": [
    "# 去除词频小于10的单词，并排序（大到小）\n",
    "lst_sortedUnigram = sorted([(v, k)  for k, v in dict_unigrams.items() if v>10], key = lambda t:t[0], reverse=True)\n",
    "print(lst_sortedUnigram[:10])\n",
    "dict_sortedUnigram = OrderedDict(lst_sortedUnigram)"
   ]
  },
  {
   "cell_type": "markdown",
   "metadata": {},
   "source": [
    "##### bigram"
   ]
  },
  {
   "cell_type": "code",
   "execution_count": 11,
   "metadata": {},
   "outputs": [
    {
     "name": "stdout",
     "output_type": "stream",
     "text": [
      "[('*', '红楼梦'), ('红楼梦', '曹雪芹'), ('曹雪芹', '#'), ('*', '严正声明'), ('严正声明', '本书'), ('本书', '为'), ('为', '丫丫'), ('丫丫', '小说网'), ('小说网', '的'), ('的', '用户')]\n",
      "465936\n"
     ]
    }
   ],
   "source": [
    "dict_bigrams, n_bigrams = ngrams_parameter_estimate(lst_cutWrords, 2)              # 二元\n",
    "print(list(dict_bigrams.keys())[:10])\n",
    "print(n_bigrams)"
   ]
  },
  {
   "cell_type": "code",
   "execution_count": 12,
   "metadata": {},
   "outputs": [
    {
     "name": "stdout",
     "output_type": "stream",
     "text": [
      "[(2444.0, ('了', '#')), (1616.0, ('笑', '道')), (1254.0, ('*', '宝玉')), (971.0, ('听', '了')), (929.0, ('呢', '#')), (821.0, ('的', '#')), (821.0, ('*', '说')), (775.0, ('去', '了')), (754.0, ('说', '着')), (675.0, ('道', '你'))]\n"
     ]
    }
   ],
   "source": [
    "# 去除词频小于10的单词，并排序（大到小）\n",
    "lst_sortedBigram = sorted([(v, k)  for k, v in dict_bigrams.items() if v>10], key = lambda t:t[0], reverse=True)\n",
    "print(lst_sortedBigram[:10])\n",
    "dict_sortedBigram = OrderedDict(lst_sortedBigram)"
   ]
  },
  {
   "cell_type": "markdown",
   "metadata": {},
   "source": [
    "##### trigram"
   ]
  },
  {
   "cell_type": "code",
   "execution_count": 16,
   "metadata": {},
   "outputs": [
    {
     "name": "stdout",
     "output_type": "stream",
     "text": [
      "[('*', '*', '红楼梦'), ('*', '红楼梦', '曹雪芹'), ('红楼梦', '曹雪芹', '#'), ('*', '*', '严正声明'), ('*', '严正声明', '本书'), ('严正声明', '本书', '为'), ('本书', '为', '丫丫'), ('为', '丫丫', '小说网'), ('丫丫', '小说网', '的'), ('小说网', '的', '用户')]\n",
      "465936\n"
     ]
    }
   ],
   "source": [
    "dict_trigrams, n_trigrams = ngrams_parameter_estimate(lst_cutWrords, 3)              # 三元\n",
    "print(list(dict_trigrams.keys())[:10])\n",
    "print(n_trigrams)"
   ]
  },
  {
   "cell_type": "code",
   "execution_count": 17,
   "metadata": {},
   "outputs": [
    {
     "name": "stdout",
     "output_type": "stream",
     "text": [
      "[(1254.0, ('*', '*', '宝玉')), (821.0, ('*', '*', '说')), (631.0, ('*', '说', '着')), (406.0, ('*', '*', '凤姐')), (316.0, ('*', '*', '众人')), (316.0, ('*', '宝玉', '道')), (286.0, ('*', '*', '王夫人')), (282.0, ('*', '*', '贾母')), (271.0, ('*', '*', '我')), (247.0, ('去', '了', '#'))]\n"
     ]
    }
   ],
   "source": [
    "# 去除词频小于10的单词，并排序（大到小）\n",
    "lst_sortedTrigram = sorted([(v, k)  for k, v in dict_trigrams.items() if v>10], key = lambda t:t[0], reverse=True)\n",
    "print(lst_sortedTrigram[:10])\n",
    "dict_sortedTrigram = OrderedDict(lst_sortedTrigram)"
   ]
  },
  {
   "cell_type": "markdown",
   "metadata": {},
   "source": [
    "##### 三个不同模型的可视化"
   ]
  },
  {
   "cell_type": "code",
   "execution_count": 18,
   "metadata": {},
   "outputs": [
    {
     "data": {
      "image/png": "[encoded data removed]",
      "text/plain": [
       "<Figure size 720x432 with 3 Axes>"
      ]
     },
     "metadata": {
      "needs_background": "light"
     },
     "output_type": "display_data"
    }
   ],
   "source": [
    "# encoding: utf-8\n",
    "plt.figure(figsize=(10,6))\n",
    "\n",
    "plt.subplot(221), plt.barh(['-'.join(t[1]) for t in lst_sortedTrigram[:30]], [t[0] for t in lst_sortedTrigram[:30]])\n",
    "plt.subplot(222), plt.barh(['-'.join(t[1]) for t in lst_sortedTrigram[:30]], [t[0] for t in lst_sortedBigram[:30]])\n",
    "plt.subplot(223), plt.barh(['-'.join(t[1]) for t in lst_sortedTrigram[:30]], [t[0] for t in lst_sortedUnigram[:30]])\n",
    "\n",
    "plt.show()"
   ]
  },
  {
   "cell_type": "code",
   "execution_count": 19,
   "metadata": {},
   "outputs": [
    {
     "data": {
      "text/plain": [
       "Text(0, 0.5, 'frequency')"
      ]
     },
     "execution_count": 19,
     "metadata": {},
     "output_type": "execute_result"
    },
    {
     "data": {
      "image/png": "[encoded data removed]",
      "text/plain": [
       "<Figure size 432x288 with 1 Axes>"
      ]
     },
     "metadata": {
      "needs_background": "light"
     },
     "output_type": "display_data"
    }
   ],
   "source": [
    "ax = sns.distplot(np.log10([t[0] for t in lst_sortedUnigram]), color='red')\n",
    "ax.set_xlabel(r'$\\log(word frequency)$')\n",
    "ax.set_ylabel(r'frequency')"
   ]
  },
  {
   "cell_type": "markdown",
   "metadata": {},
   "source": [
    "### 简单语言模型"
   ]
  },
  {
   "cell_type": "markdown",
   "metadata": {},
   "source": [
    "#### 分割数据集"
   ]
  },
  {
   "cell_type": "code",
   "execution_count": 20,
   "metadata": {},
   "outputs": [
    {
     "data": {
      "text/plain": [
       "(7901, 3159, 4739)"
      ]
     },
     "execution_count": 20,
     "metadata": {},
     "output_type": "execute_result"
    }
   ],
   "source": [
    "n_samples = len(lst_cutWrords)\n",
    "n_valid = int(n_samples * 0.2)\n",
    "n_test = int(n_samples * 0.3)\n",
    "\n",
    "permutation = np.random.permutation(n_samples)                                      # 随机种子\n",
    "\n",
    "array_shuffledSentences = np.array(lst_cutWrords)[permutation]                          # 矩阵化\n",
    "\n",
    "train = array_shuffledSentences[:n_samples-n_test-n_valid]\n",
    "valid = array_shuffledSentences[n_samples-n_test-n_valid:n_samples-n_test]\n",
    "test = array_shuffledSentences[n_samples-n_test:]\n",
    "len(train), len(valid), len(test)"
   ]
  },
  {
   "cell_type": "markdown",
   "metadata": {},
   "source": [
    "#### 训练模型（计算二元、三元模型计数字典）\n",
    "$$p(sentece) = q(s_1|*,*) * q(s_2|s_1,*) * ... * q(<s>|s_{i-1}, s_i)$$\n",
    "- $$q(w|u,v) = \\frac{Count(w,u,v)}{Count(u,v)} = \\frac{TriGram [s_i][0]}{biGram [s_i][0]}$$\n",
    "$$l = \\frac{1}{M}\\sum_{i=1}^m{log (p(s_i))}, plexsity = 2^{-l}$$"
   ]
  },
  {
   "cell_type": "markdown",
   "metadata": {},
   "source": [
    "##### 计算训练集二元模型\n",
    "- 得到$q(w|u,v)$"
   ]
  },
  {
   "cell_type": "code",
   "execution_count": 21,
   "metadata": {},
   "outputs": [],
   "source": [
    "dict_trainBigramdict,n_bigrams = ngrams_parameter_estimate(train, 2)\n",
    "dict_trainTrigramdict,n_Trigrams = ngrams_parameter_estimate(train, 3)"
   ]
  },
  {
   "cell_type": "markdown",
   "metadata": {},
   "source": [
    "##### 迷惑度（内含计算最大似然估计）\n",
    "- 利用训练集的 $𝑞(𝑤|𝑢,𝑣)$ 计算测试集的 $p(sentece)$， 然后计算测试集$2^{-l}$"
   ]
  },
  {
   "cell_type": "code",
   "execution_count": 33,
   "metadata": {},
   "outputs": [],
   "source": [
    "# 测试集组成二元、三元模型\n",
    "lst_testTrigram = get_nGramsModel(test,3)                  # 三元模型，直接用于计算p\n",
    "lst_testBigram = get_nGramsModel(test,2)                   # 二元模型，获得索引在计算"
   ]
  },
  {
   "cell_type": "code",
   "execution_count": 36,
   "metadata": {},
   "outputs": [
    {
     "data": {
      "text/plain": [
       "[('*', '*', '今日'),\n",
       " ('*', '今日', '天睁'),\n",
       " ('今日', '天睁', '了'),\n",
       " ('天睁', '了', '眼'),\n",
       " ('了', '眼', '把'),\n",
       " ('眼', '把', '这'),\n",
       " ('把', '这', '一个'),\n",
       " ('这', '一个', '祸害'),\n",
       " ('一个', '祸害', '妖精'),\n",
       " ('祸害', '妖精', '退送'),\n",
       " ('妖精', '退送', '了'),\n",
       " ('退送', '了', '大家'),\n",
       " ('了', '大家', '清净'),\n",
       " ('大家', '清净', '些'),\n",
       " ('清净', '些', '#')]"
      ]
     },
     "execution_count": 36,
     "metadata": {},
     "output_type": "execute_result"
    }
   ],
   "source": [
    "lst_testTrigram[1]"
   ]
  },
  {
   "cell_type": "code",
   "execution_count": null,
   "metadata": {},
   "outputs": [],
   "source": [
    "def get_pSentece(n_model, d_trainTrigramdict, d_trainBigramdict):\n",
    "    # 计算每个句子的p\n",
    "    lst_testP = []\n",
    "    int_product = 1\n",
    "    ## 遍历列表内所有句子分组列表\n",
    "    for trigrams in n_model:\n",
    "        for tri in trigrams:\n",
    "            str_biIndex = tri.pop(0)                                          # 获得用于biGrams索引的tuple\n",
    "            p = d_trainTrigramdict[index] / d_trainBigramdict[index]\n",
    "            int_product *= p                                                  # p连乘\n",
    "        lst_testP.append(int_product)\n",
    "        \n",
    "# test 'get_pSentece' method\n",
    "test_lst_cutwords = [['红楼梦', '曹雪芹'],\n",
    "                     ['在线', '阅读']]\n",
    "n_model = get_nGramsModel(test_lst_cutwords, 3)\n",
    "\n",
    "print(get_pSentece(n_model))"
   ]
  },
  {
   "cell_type": "code",
   "execution_count": null,
   "metadata": {},
   "outputs": [],
   "source": []
  },
  {
   "cell_type": "code",
   "execution_count": null,
   "metadata": {},
   "outputs": [],
   "source": []
  },
  {
   "cell_type": "code",
   "execution_count": null,
   "metadata": {},
   "outputs": [],
   "source": []
  },
  {
   "cell_type": "code",
   "execution_count": null,
   "metadata": {},
   "outputs": [],
   "source": []
  }
 ],
 "metadata": {
  "kernelspec": {
   "display_name": "Python 3",
   "language": "python",
   "name": "python3"
  },
  "language_info": {
   "codemirror_mode": {
    "name": "ipython",
    "version": 3
   },
   "file_extension": ".py",
   "mimetype": "text/x-python",
   "name": "python",
   "nbconvert_exporter": "python",
   "pygments_lexer": "ipython3",
   "version": "3.7.0"
  },
  "toc": {
   "base_numbering": 1,
   "nav_menu": {},
   "number_sections": true,
   "sideBar": true,
   "skip_h1_title": false,
   "title_cell": "Table of Contents",
   "title_sidebar": "Contents",
   "toc_cell": false,
   "toc_position": {
    "height": "calc(100% - 180px)",
    "left": "10px",
    "top": "150px",
    "width": "307.594px"
   },
   "toc_section_display": true,
   "toc_window_display": true
  }
 },
 "nbformat": 4,
 "nbformat_minor": 2
}
