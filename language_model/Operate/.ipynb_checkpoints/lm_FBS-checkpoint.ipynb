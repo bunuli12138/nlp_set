{
 "cells": [
  {
   "cell_type": "markdown",
   "metadata": {},
   "source": [
    "## 简介&库"
   ]
  },
  {
   "cell_type": "markdown",
   "metadata": {},
   "source": [
    "以《斗破苍穹》为例，实施语言模型"
   ]
  },
  {
   "cell_type": "code",
   "execution_count": 1,
   "metadata": {},
   "outputs": [],
   "source": [
    "import numpy as np\n",
    "import pandas as pd\n",
    "import re                                                        # 用于识别非中文并过滤\n",
    "import jieba                                                     # 用于句子分词\n",
    "import seaborn as sns                                           # 可视化"
   ]
  },
  {
   "cell_type": "markdown",
   "metadata": {},
   "source": [
    "## 文本预处理"
   ]
  },
  {
   "cell_type": "code",
   "execution_count": 81,
   "metadata": {},
   "outputs": [
    {
     "data": {
      "text/plain": [
       "'《斗破苍穹》天蚕土豆\\r\\n\\r\\n严正声明：本书为丫丫小说网(www.shuyaya.com)的用户上传至其在本站的存储空间，本站只提供TXT全集电子书存储服务以及免费下载服务，以下作品内容之版权与本站无任何关系。\\r\\n在线阅读：http://www.shuyaya.com/read/18/\\r\\n--------------------------------------------------\\r\\n\\r\\n第一章 陨落的天才\\r\\n\\r\\n    “斗之力，三段！”\\r\\n\\r\\n    望着测验魔石碑上面闪亮得甚至有些刺眼的五个大字，少年面无表情，唇角有着一抹自嘲，紧握的手掌，因为大力，而导致略微尖锐的指甲深深的刺进了掌'"
      ]
     },
     "execution_count": 81,
     "metadata": {},
     "output_type": "execute_result"
    }
   ],
   "source": [
    "# 自定义方法，读取文本\n",
    "def get_TxtText(filepath):\n",
    "    str_textO = ''\n",
    "    with open(filepath, 'rb')as f:\n",
    "        str_textO += f.read().decode('utf-8')\n",
    "    return str_textO\n",
    "\n",
    "# test 'get_TxtText' method\n",
    "str_TextOrg = get_TxtText('../Data/FBS.txt')\n",
    "str_TextOrg[:300]"
   ]
  },
  {
   "cell_type": "markdown",
   "metadata": {},
   "source": [
    "### 断句"
   ]
  },
  {
   "cell_type": "code",
   "execution_count": 82,
   "metadata": {},
   "outputs": [
    {
     "name": "stdout",
     "output_type": "stream",
     "text": [
      "['《斗破苍穹》天蚕土豆严正声明：本书为丫丫小说网(www.shuyaya.com)的用户上传至其在本站的存储空间。', '本站只提供TXT全集电子书存储服务以及免费下载服务，以下作品内容之版权与本站无任何关系。']\n"
     ]
    }
   ],
   "source": [
    "# 自定义方法，断句\n",
    "## 定义句子结束符号，遍历文本，如果当前字符是结束符号，则断句并附加到list\n",
    "def get_TextSenteces(text):\n",
    "    lst_punt = \"!?。！？\\n\\r\"                                # 句子结束符号\n",
    "    lst_senteces = []                                        # 储存断句结果\n",
    "    start = 0                                                # 句子开头光标位置\n",
    "    text += '#'\n",
    "    for i in range(len(text)):\n",
    "        if text[i] in lst_punt and text[i+1] not in lst_punt:\n",
    "            lst_senteces.append(text[start:i+1].strip())\n",
    "            start = i+1\n",
    "    return lst_senteces\n",
    "            \n",
    "# test 'get_TextSenteces' method\n",
    "s = '《斗破苍穹》天蚕土豆严正声明：本书为丫丫小说网(www.shuyaya.com)的用户上传至其在本站的存储空间。\\\n",
    "本站只提供TXT全集电子书存储服务以及免费下载服务，以下作品内容之版权与本站无任何关系。'\n",
    "print(get_TextSenteces(s))"
   ]
  },
  {
   "cell_type": "code",
   "execution_count": 83,
   "metadata": {},
   "outputs": [
    {
     "data": {
      "text/plain": [
       "['《斗破苍穹》天蚕土豆',\n",
       " '严正声明：本书为丫丫小说网(www.shuyaya.com)的用户上传至其在本站的存储空间，本站只提供TXT全集电子书存储服务以及免费下载服务，以下作品内容之版权与本站无任何关系。',\n",
       " '在线阅读：http://www.shuyaya.com/read/18/',\n",
       " '--------------------------------------------------',\n",
       " '第一章 陨落的天才',\n",
       " '“斗之力，三段！',\n",
       " '”',\n",
       " '望着测验魔石碑上面闪亮得甚至有些刺眼的五个大字，少年面无表情，唇角有着一抹自嘲，紧握的手掌，因为大力，而导致略微尖锐的指甲深深的刺进了掌心之中，带来一阵阵钻心的疼痛…',\n",
       " '“萧炎，斗之力，三段！',\n",
       " '级别：低级！']"
      ]
     },
     "execution_count": 83,
     "metadata": {},
     "output_type": "execute_result"
    }
   ],
   "source": [
    "lst_TextSentece = get_TextSenteces(str_TextOrg)\n",
    "lst_TextSentece[:10]"
   ]
  },
  {
   "cell_type": "markdown",
   "metadata": {},
   "source": [
    "### 仅保留中文并导出文件"
   ]
  },
  {
   "cell_type": "code",
   "execution_count": 84,
   "metadata": {},
   "outputs": [
    {
     "name": "stdout",
     "output_type": "stream",
     "text": [
      "['斗破苍穹天蚕土豆严正声明本书为丫丫小说网的用户上传至其在本站的存储空间', '本站只提供全集电子书存储服务以及免费下载服务以下作品内容之版权与本站无任何关系']\n"
     ]
    }
   ],
   "source": [
    "#自定义方法，利用re过滤文本：只保留中文\n",
    "def get_SenOnlyCN(lst_sens):\n",
    "    lst_cs = []\n",
    "    pat_notCN = re.compile(u'[^\\u4E00-\\u9FA5]')             # re通配符，适配非中文\n",
    "    for sen in lst_sens:\n",
    "        c_sen = pat_notCN.sub(r'', sen)                     # 将非中文字符替换为空\n",
    "        if len(c_sen)>0:\n",
    "            lst_cs.append(c_sen)\n",
    "    return lst_cs\n",
    "            \n",
    "# test 'get_TextSenteces' method\n",
    "s = ['《斗破苍穹》天蚕土豆严正声明：本书为丫丫小说网(www.shuyaya.com)的用户上传至其在本站的存储空间。',\n",
    "     '本站只提供TXT全集电子书存储服务以及免费下载服务，以下作品内容之版权与本站无任何关系。']\n",
    "print(get_SenOnlyCN(s))"
   ]
  },
  {
   "cell_type": "code",
   "execution_count": 86,
   "metadata": {},
   "outputs": [
    {
     "data": {
      "text/plain": [
       "['斗破苍穹天蚕土豆',\n",
       " '严正声明本书为丫丫小说网的用户上传至其在本站的存储空间本站只提供全集电子书存储服务以及免费下载服务以下作品内容之版权与本站无任何关系',\n",
       " '在线阅读',\n",
       " '第一章陨落的天才',\n",
       " '斗之力三段',\n",
       " '望着测验魔石碑上面闪亮得甚至有些刺眼的五个大字少年面无表情唇角有着一抹自嘲紧握的手掌因为大力而导致略微尖锐的指甲深深的刺进了掌心之中带来一阵阵钻心的疼痛',\n",
       " '萧炎斗之力三段',\n",
       " '级别低级']"
      ]
     },
     "execution_count": 86,
     "metadata": {},
     "output_type": "execute_result"
    }
   ],
   "source": [
    "lst_SenOnlyCN = get_SenOnlyCN(lst_TextSentece)\n",
    "lst_SenOnlyCN[:8]"
   ]
  },
  {
   "cell_type": "code",
   "execution_count": 88,
   "metadata": {},
   "outputs": [
    {
     "name": "stdout",
     "output_type": "stream",
     "text": [
      "斗破苍穹天蚕土豆\n",
      "\n",
      "严正声明本书为丫丫小说网的用户上传至其在本站的存储空间本站只提供全集电子书存储服务以及免费下载服务以下作品内容之版权与本站无任何关系\n",
      "\n",
      "在线阅读\n",
      "\n",
      "第一章陨落的天才\n",
      "\n",
      "斗之力三段\n",
      "\n",
      "望着测验魔石碑上面闪亮得甚至有些刺眼的五个大字少年面无表情唇角有着一抹自嘲紧握的手掌因为大力而导致略微尖锐的指甲深深的刺进了掌心之中带来一阵阵钻心的疼痛\n",
      "\n",
      "萧炎斗之力三段\n",
      "\n",
      "级别低级\n",
      "\n"
     ]
    }
   ],
   "source": [
    "# 导出文件\n",
    "with open('../Data/cleaned_FBS.txt', 'w')as f:\n",
    "    for sen in lst_SenOnlyCN:\n",
    "        f.write(sen+'\\n')\n",
    "        \n",
    "# test 'cleaned' file \n",
    "with open('../Data/cleaned_FBS.txt', 'r')as f:\n",
    "    for i in range(8):\n",
    "          print(f.readline())"
   ]
  },
  {
   "cell_type": "markdown",
   "metadata": {},
   "source": [
    "### 结巴分词"
   ]
  },
  {
   "cell_type": "code",
   "execution_count": 2,
   "metadata": {},
   "outputs": [
    {
     "data": {
      "text/plain": [
       "['斗破苍穹天蚕土豆',\n",
       " '严正声明本书为丫丫小说网的用户上传至其在本站的存储空间本站只提供全集电子书存储服务以及免费下载服务以下作品内容之版权与本站无任何关系',\n",
       " '在线阅读',\n",
       " '第一章陨落的天才',\n",
       " '斗之力三段',\n",
       " '望着测验魔石碑上面闪亮得甚至有些刺眼的五个大字少年面无表情唇角有着一抹自嘲紧握的手掌因为大力而导致略微尖锐的指甲深深的刺进了掌心之中带来一阵阵钻心的疼痛',\n",
       " '萧炎斗之力三段',\n",
       " '级别低级']"
      ]
     },
     "execution_count": 2,
     "metadata": {},
     "output_type": "execute_result"
    }
   ],
   "source": [
    "# 读取cleaned文件\n",
    "lst_TextOnlyCN = []\n",
    "with open('../Data/cleaned_FBS.txt', 'r')as f:\n",
    "    for sen in f.readlines():\n",
    "        lst_TextOnlyCN.append(sen.strip())\n",
    "\n",
    "# test 'lst_TextOnlyCN'\n",
    "lst_TextOnlyCN[:8]"
   ]
  },
  {
   "cell_type": "code",
   "execution_count": 3,
   "metadata": {},
   "outputs": [
    {
     "name": "stderr",
     "output_type": "stream",
     "text": [
      "Building prefix dict from the default dictionary ...\n",
      "Loading model from cache C:\\Users\\ADMINI~1\\AppData\\Local\\Temp\\jieba.cache\n",
      "Loading model cost 0.916 seconds.\n",
      "Prefix dict has been built succesfully.\n"
     ]
    },
    {
     "data": {
      "text/plain": [
       "(['望',\n",
       "  '着',\n",
       "  '测验',\n",
       "  '魔',\n",
       "  '石碑',\n",
       "  '上面',\n",
       "  '闪亮',\n",
       "  '得',\n",
       "  '甚至',\n",
       "  '有些',\n",
       "  '刺眼',\n",
       "  '的',\n",
       "  '五个',\n",
       "  '大字',\n",
       "  '少年',\n",
       "  '面',\n",
       "  '无表情',\n",
       "  '唇角',\n",
       "  '有着',\n",
       "  '一抹',\n",
       "  '自嘲',\n",
       "  '紧握',\n",
       "  '的',\n",
       "  '手掌',\n",
       "  '因为',\n",
       "  '大力',\n",
       "  '而',\n",
       "  '导致',\n",
       "  '略微',\n",
       "  '尖锐',\n",
       "  '的',\n",
       "  '指甲',\n",
       "  '深深',\n",
       "  '的',\n",
       "  '刺进',\n",
       "  '了',\n",
       "  '掌心',\n",
       "  '之中',\n",
       "  '带来',\n",
       "  '一阵阵',\n",
       "  '钻心',\n",
       "  '的',\n",
       "  '疼痛'],\n",
       " ['萧炎', '斗之力', '三段'],\n",
       " ['级别', '低级'])"
      ]
     },
     "execution_count": 3,
     "metadata": {},
     "output_type": "execute_result"
    }
   ],
   "source": [
    "%%time\n",
    "# 分词\n",
    "lst_cutWords = [list(jieba.cut(sen)) for sen in lst_TextOnlyCN]\n",
    "\n",
    "# test 'lst_cutWords' (cut word results)\n",
    "lst_cutWords[5],lst_cutWords[6], lst_cutWords[7]"
   ]
  },
  {
   "cell_type": "markdown",
   "metadata": {},
   "source": [
    "## 语言模型-简单\n",
    "1.分割数据集为训练集测试集               \n",
    "2.对训练集进行二元、三元模型的分割并计数                \n",
    "3.对测试集进行二元、三元模型的分割，并计算p（sentence）             \n",
    "4.计算测试集迷惑度$perplexity = 2^{-l}, l = \\frac{1}{M} \\sum_{i=1}^m log(p(s_i)), M是测试集词汇量$ "
   ]
  },
  {
   "cell_type": "markdown",
   "metadata": {},
   "source": [
    "### 分割为训练集测试集"
   ]
  },
  {
   "cell_type": "code",
   "execution_count": 5,
   "metadata": {},
   "outputs": [
    {
     "name": "stdout",
     "output_type": "stream",
     "text": [
      "[['斗破', '苍穹'], ['在线', '阅读'], ['天蚕', '土豆'], ['我', '要'], ['这天', '遮不住']]\n",
      "[['天蚕' '土豆']\n",
      " ['我' '要']\n",
      " ['斗破' '苍穹']]\n",
      "[['这天' '遮不住']\n",
      " ['在线' '阅读']]\n"
     ]
    }
   ],
   "source": [
    "# 自定义方法，分割数据集\n",
    "def get_TrainTes(lst_cws,train_size):\n",
    "    int_senNum = len(lst_cws)                                                     # 有多少句子\n",
    "    perm = np.random.permutation(int_senNum)                                      # 随机序列\n",
    "    size = int(int_senNum*train_size)\n",
    "    ary_cws = np.array(lst_cws)                                                   # 矩阵化\n",
    "\n",
    "    lst_train = ary_cws[perm][:size]\n",
    "    lst_test = ary_cws[perm][size:]\n",
    "    \n",
    "    return lst_train, lst_test\n",
    "# test 'get_TrainTes' method\n",
    "s = [['斗破', '苍穹'], ['在线', '阅读'],['天蚕','土豆'],['我','要'],['这天','遮不住']]\n",
    "print(s)\n",
    "ts = 0.7\n",
    "train, test = get_TrainTes(s,ts)\n",
    "print(train)\n",
    "print(test)\n",
    "# print(list(train[0]))"
   ]
  },
  {
   "cell_type": "code",
   "execution_count": 6,
   "metadata": {},
   "outputs": [
    {
     "data": {
      "text/plain": [
       "(92459, 39626)"
      ]
     },
     "execution_count": 6,
     "metadata": {},
     "output_type": "execute_result"
    }
   ],
   "source": [
    "train_size = 0.7\n",
    "ary_train, ary_test = get_TrainTes(lst_cutWords,train_size)\n",
    "len(ary_train), len(ary_test)"
   ]
  },
  {
   "cell_type": "markdown",
   "metadata": {},
   "source": [
    "### 对训练集建模二元、三元"
   ]
  },
  {
   "cell_type": "code",
   "execution_count": 7,
   "metadata": {},
   "outputs": [
    {
     "name": "stdout",
     "output_type": "stream",
     "text": [
      "[[('*', '*', '斗破'), ('*', '斗破', '苍穹'), ('斗破', '苍穹', '#')], [('*', '*', '在线'), ('*', '在线', '阅读'), ('在线', '阅读', '#')], [('*', '*', '天蚕'), ('*', '天蚕', '土豆'), ('天蚕', '土豆', '#')], [('*', '*', '我'), ('*', '我', '要'), ('我', '要', '#')], [('*', '*', '这天'), ('*', '这天', '遮不住'), ('这天', '遮不住', '#')], [('*', '*', '天蚕'), ('*', '天蚕', '土豆'), ('天蚕', '土豆', '#')], [('*', '*', '我'), ('*', '我', '要'), ('我', '要', '#')], [('*', '*', '这天'), ('*', '这天', '遮不住'), ('这天', '遮不住', '#')]]\n",
      "{('*', '*', '斗破'): 1, ('*', '斗破', '苍穹'): 1, ('斗破', '苍穹', '#'): 1, ('*', '*', '在线'): 1, ('*', '在线', '阅读'): 1, ('在线', '阅读', '#'): 1, ('*', '*', '天蚕'): 2, ('*', '天蚕', '土豆'): 2, ('天蚕', '土豆', '#'): 2, ('*', '*', '我'): 2, ('*', '我', '要'): 2, ('我', '要', '#'): 2, ('*', '*', '这天'): 2, ('*', '这天', '遮不住'): 2, ('这天', '遮不住', '#'): 2}\n",
      "24\n"
     ]
    }
   ],
   "source": [
    "\"\"\"\n",
    "缺点：\n",
    "略显臃肿。\n",
    "对于训练集其实不需要ngrams_model(返回变量 n)\n",
    "对于测试集其实不需要数量统计（返回变量 d）\n",
    "\"\"\"\n",
    "# 自定义方法，获得添加开始符号以及结束符号的分词结果\n",
    "def get_ngramsModel(ary_cws, ngram):\n",
    "    ngrams_model, sen = [], []                                         # ngram总模型，ngram当前模型结果\n",
    "    d_cmn = {}                                                         # 模型数量统计\n",
    "    i_tn = 0                                                           # 文本分词总词数\n",
    "    for sle_ary in ary_cws:\n",
    "        sen = list(sle_ary)\n",
    "        ## 在列表开头插入n-1个星号\n",
    "        for i in range(ngram-1):\n",
    "            sen.insert(0, '*')\n",
    "        ## 在列表末尾插入1个星号\n",
    "        sen.append('#')\n",
    "        \n",
    "        # 自定义方法，获得ngram分组的列表\n",
    "        get_ngramsLst = lambda lst_cws, n : zip(*[lst_cws[i:] for i in range(n)])\n",
    "        \n",
    "        sen = list(get_ngramsLst(sen, ngram))\n",
    "        \n",
    "        for m in sen:\n",
    "            d_cmn[m] = d_cmn.get(m, 0) + 1\n",
    "            i_tn += 1\n",
    "            \n",
    "        ngrams_model.append(sen)\n",
    "    return ngrams_model, d_cmn, i_tn\n",
    "        \n",
    "# test 'get_ngramsModel' method\n",
    "s= [['斗破', '苍穹'], ['在线', '阅读'],['天蚕','土豆'],['我','要'],['这天','遮不住'],['天蚕','土豆'],['我','要'],['这天','遮不住']]\n",
    "n,d, i = get_ngramsModel(np.array(s),3)\n",
    "print(n)\n",
    "print(d)\n",
    "print(i)"
   ]
  },
  {
   "cell_type": "code",
   "execution_count": 8,
   "metadata": {},
   "outputs": [
    {
     "name": "stdout",
     "output_type": "stream",
     "text": [
      "1342370 640083 56717\n",
      "1994836 1994836 1994836\n",
      "[(5361, ('*', '*', '萧炎')), (3076, ('*', '*', '在')), (1634, ('*', '*', '望')), (1603, ('*', '望', '着')), (1511, ('点', '了', '点头')), (1460, ('望', '着', '那')), (1437, ('*', '*', '闻言')), (1329, ('*', '*', '这')), (1242, ('*', '*', '见到')), (1133, ('的', '望', '着'))]\n",
      "Wall time: 7.25 s\n"
     ]
    }
   ],
   "source": [
    "%%time\n",
    "# 训练集模型计数\n",
    "lst_trainTri, dct_trainCountTri,int_trainTriNum = get_ngramsModel(ary_train, 3)\n",
    "lst_trainBi, dct_trainCountBi,int_trainBiNum = get_ngramsModel(ary_train, 2)\n",
    "lst_trainUni, dct_trainCountUni,int_trainUniNum = get_ngramsModel(ary_train, 1)\n",
    "\n",
    "print(len(dct_trainCountTri), len(dct_trainCountBi), len(dct_trainCountUni))\n",
    "print(int_trainTriNum, int_trainBiNum, int_trainUniNum)\n",
    "\n",
    "print(sorted([(v, k)  for k, v in dct_trainCountTri.items() if v>10], key = lambda t:t[0], reverse=True)[:10])"
   ]
  },
  {
   "cell_type": "code",
   "execution_count": 9,
   "metadata": {},
   "outputs": [
    {
     "data": {
      "text/plain": [
       "Text(0, 0.5, 'frequency')"
      ]
     },
     "execution_count": 9,
     "metadata": {},
     "output_type": "execute_result"
    },
    {
     "data": {
      "image/png": "[encoded data removed]",
      "text/plain": [
       "<Figure size 432x288 with 1 Axes>"
      ]
     },
     "metadata": {
      "needs_background": "light"
     },
     "output_type": "display_data"
    }
   ],
   "source": [
    "# 训练集模型计数可视化\n",
    "ax = sns.distplot(np.log10([t for t in dct_trainCountTri.values()]), color='red')\n",
    "ax.set_xlabel(r'$\\log(word frequency)$')\n",
    "ax.set_ylabel(r'frequency')"
   ]
  },
  {
   "cell_type": "markdown",
   "metadata": {},
   "source": [
    "### 对测试集建模三元\n",
    "- 测试集只需要model（用于索引）"
   ]
  },
  {
   "cell_type": "code",
   "execution_count": 10,
   "metadata": {},
   "outputs": [],
   "source": [
    "# ary_test\n",
    "lst_testTri, dct_testCountTri,int_testTriNum = get_ngramsModel(ary_test, 3)\n",
    "lst_testBi, dct_testCountBi,int_testBiNum = get_ngramsModel(ary_test, 2)"
   ]
  },
  {
   "cell_type": "code",
   "execution_count": 26,
   "metadata": {},
   "outputs": [
    {
     "data": {
      "text/plain": [
       "[0.0098043464, 0, 0]"
      ]
     },
     "execution_count": 26,
     "metadata": {},
     "output_type": "execute_result"
    }
   ],
   "source": [
    "# 自定义方法，获取分好词的文本中p(s_i)，\n",
    "def get_pSen(lst_ngram, d_countNgrams, d_countN_1grams):\n",
    "    lst_p = []\n",
    "    \n",
    "    for l in lst_ngram:\n",
    "        p = 1                                                       # p初始化\n",
    "        for ng in l:\n",
    "            if ng[0]=='*':   bi = ng[1:]\n",
    "            else:            bi = ng[0:2]\n",
    "#             print(ng, bi)\n",
    "            mol, deno = d_countNgrams.get(ng, None), d_countN_1grams.get(bi, None)\n",
    "#             print('```',mol, deno)\n",
    "            if mol!=None and deno!=None:\n",
    "                p *= round(mol/deno, 5)\n",
    "#                 print('\\t',ng,bi ,mol/deno, p)\n",
    "            else:\n",
    "                p = 0\n",
    "                break\n",
    "                \n",
    "#         print(lst_ngram.index(l), p)\n",
    "        lst_p.append(p)\n",
    "    return lst_p\n",
    "\n",
    "# test 'get_pSen' method\n",
    "l = [['第一章', '陨落', '的', '天才'],['斗之力', '三段'],['望','着','测验','魔','石碑','上面','闪亮','得','甚至','有些','刺眼','的','五个',\\\n",
    "'大字','少年','面无表情','唇角','有着','一抹','自嘲','紧握','的','手掌','因为','大力','而','导致','略微','尖锐','的','指甲','深深','的',\\\n",
    "'刺进','了','掌心','之中','带来','一阵阵','钻心','的','疼痛']]\n",
    "\n",
    "n, d, i = get_ngramsModel(l,3)\n",
    "\n",
    "lst_pSen = get_pSen(n, dct_trainCountTri, dct_trainCountBi)\n",
    "lst_pSen"
   ]
  },
  {
   "cell_type": "code",
   "execution_count": 27,
   "metadata": {},
   "outputs": [
    {
     "data": {
      "text/plain": [
       "[0, 0, 0, 0, 0, 0, 0.0015870978, 0, 0, 0]"
      ]
     },
     "execution_count": 27,
     "metadata": {},
     "output_type": "execute_result"
    }
   ],
   "source": [
    "lst_pSenTri = get_pSen(lst_testTri, dct_trainCountTri, dct_trainCountBi)\n",
    "lst_pSenTri[:10]"
   ]
  },
  {
   "cell_type": "markdown",
   "metadata": {},
   "source": [
    "### 迷惑度\n",
    "$perplexity = 2^{-l}, l = \\frac{1}{M} \\sum_{i=1}^m log(p(s_i)), M是测试集词汇量$ "
   ]
  },
  {
   "cell_type": "code",
   "execution_count": 29,
   "metadata": {},
   "outputs": [
    {
     "data": {
      "text/plain": [
       "812715"
      ]
     },
     "execution_count": 29,
     "metadata": {},
     "output_type": "execute_result"
    }
   ],
   "source": [
    "# 单词总数\n",
    "int_TestWordsNum = np.sum([len(l) for l in ary_test])\n",
    "int_TestWordsNum"
   ]
  },
  {
   "cell_type": "code",
   "execution_count": 45,
   "metadata": {},
   "outputs": [
    {
     "data": {
      "text/plain": [
       "2.8284271247461903"
      ]
     },
     "execution_count": 45,
     "metadata": {},
     "output_type": "execute_result"
    }
   ],
   "source": [
    "# 自定义方法，计算测试集迷惑度\n",
    "def get_perplexity(l_p, M):\n",
    "    perp = 0\n",
    "    for p in l_p:\n",
    "        if not p:\n",
    "            perp += 0\n",
    "            continue\n",
    "        perp += np.log2(p)\n",
    "    perp /= M\n",
    "    \n",
    "    return 2**(-perp)\n",
    "\n",
    "# test 'get_perplexity' method\n",
    "l = [0.5, 0.25,0,0.125,0,0.0625,0,0.03125]\n",
    "i_ps = get_perplexity(l, 10)\n",
    "i_ps"
   ]
  },
  {
   "cell_type": "code",
   "execution_count": 46,
   "metadata": {},
   "outputs": [
    {
     "data": {
      "text/plain": [
       "1.023274837149308"
      ]
     },
     "execution_count": 46,
     "metadata": {},
     "output_type": "execute_result"
    }
   ],
   "source": [
    "int_perpSenTri = get_perplexity(lst_pSenTri, int_TestWordsNum)\n",
    "int_perpSenTri"
   ]
  },
  {
   "cell_type": "code",
   "execution_count": null,
   "metadata": {},
   "outputs": [],
   "source": []
  }
 ],
 "metadata": {
  "kernelspec": {
   "display_name": "Python 3",
   "language": "python",
   "name": "python3"
  },
  "language_info": {
   "codemirror_mode": {
    "name": "ipython",
    "version": 3
   },
   "file_extension": ".py",
   "mimetype": "text/x-python",
   "name": "python",
   "nbconvert_exporter": "python",
   "pygments_lexer": "ipython3",
   "version": "3.6.6"
  },
  "toc": {
   "base_numbering": 1,
   "nav_menu": {},
   "number_sections": true,
   "sideBar": true,
   "skip_h1_title": false,
   "title_cell": "Table of Contents",
   "title_sidebar": "Contents",
   "toc_cell": false,
   "toc_position": {},
   "toc_section_display": true,
   "toc_window_display": true
  }
 },
 "nbformat": 4,
 "nbformat_minor": 2
}
